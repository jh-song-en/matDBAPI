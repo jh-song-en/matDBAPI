{
 "cells": [
  {
   "cell_type": "code",
   "execution_count": 1,
   "metadata": {
    "collapsed": true
   },
   "outputs": [],
   "source": [
    "import requests"
   ]
  },
  {
   "cell_type": "code",
   "execution_count": 3,
   "outputs": [],
   "source": [
    "\n",
    "rv = requests.get(\n",
    "        'https://materialsproject.org/materials/{material_id}/xrd?symbol={rad_source}'.format(\n",
    "            material_id=\"mp-23\",\n",
    "            rad_source=\"Cu\",\n",
    "        ))"
   ],
   "metadata": {
    "collapsed": false,
    "pycharm": {
     "name": "#%%\n"
    }
   }
  },
  {
   "cell_type": "code",
   "execution_count": 11,
   "outputs": [
    {
     "data": {
      "text/plain": "<Response [200]>"
     },
     "execution_count": 11,
     "metadata": {},
     "output_type": "execute_result"
    }
   ],
   "source": [
    "req = requests.get(\"https://www.materialsproject.org/rest/v2/materials/Fe-Ni/vasp?API_KEY=P2tLmbTfRg9uMJDqzXV\")\n",
    "req"
   ],
   "metadata": {
    "collapsed": false,
    "pycharm": {
     "name": "#%%\n"
    }
   }
  },
  {
   "cell_type": "code",
   "execution_count": 24,
   "outputs": [
    {
     "data": {
      "text/plain": "<Response [200]>"
     },
     "execution_count": 24,
     "metadata": {},
     "output_type": "execute_result"
    }
   ],
   "source": [
    "import requests\n",
    "column_list = [\"name\",\"entry_id\",\"spacegroup\",\"ntypes\",\"band_gap\",\"delta_e\"]\n",
    "query = \"http://oqmd.org/oqmdapi/formationenergy?fields=\" + ','.join(column_list) + \"&filter=element_set=(Al,Fe) AND ntypes=2\"\n",
    "reg = requests.get(query)\n",
    "reg"
   ],
   "metadata": {
    "collapsed": false,
    "pycharm": {
     "name": "#%%\n"
    }
   }
  },
  {
   "cell_type": "code",
   "execution_count": 23,
   "outputs": [
    {
     "data": {
      "text/plain": "{'links': {'next': None,\n  'previous': None,\n  'base_url': {'href': 'http://oqmd.org/oqmdapi',\n   'meta': {'_oqmd_version': '1.0'}}},\n 'resource': {},\n 'data': [{'name': 'AlFe',\n   'entry_id': 20929,\n   'spacegroup': 'Pm-3m',\n   'ntypes': 2,\n   'band_gap': 0.0,\n   'delta_e': -0.331671410000001},\n  {'name': 'AlFe',\n   'entry_id': 304642,\n   'spacegroup': 'Pm-3m',\n   'ntypes': 2,\n   'band_gap': 0.0,\n   'delta_e': -0.331757625000001},\n  {'name': 'AlFe',\n   'entry_id': 325726,\n   'spacegroup': 'R-3m',\n   'ntypes': 2,\n   'band_gap': 0.0,\n   'delta_e': -0.157522370000001},\n  {'name': 'AlFe',\n   'entry_id': 336184,\n   'spacegroup': 'P4/mmm',\n   'ntypes': 2,\n   'band_gap': 0.0,\n   'delta_e': -0.307771380000001},\n  {'name': 'AlFe',\n   'entry_id': 54708,\n   'spacegroup': 'Pm-3m',\n   'ntypes': 2,\n   'band_gap': 0.0,\n   'delta_e': -0.331755675000001},\n  {'name': 'AlFe',\n   'entry_id': 110794,\n   'spacegroup': 'Pm-3m',\n   'ntypes': 2,\n   'band_gap': 0.0,\n   'delta_e': -0.331630775000001},\n  {'name': 'AlFe',\n   'entry_id': 110795,\n   'spacegroup': 'Pm-3m',\n   'ntypes': 2,\n   'band_gap': 0.0,\n   'delta_e': -0.331626890000001},\n  {'name': 'AlFe',\n   'entry_id': 1103828,\n   'spacegroup': 'Fm-3m',\n   'ntypes': 2,\n   'band_gap': 0.0,\n   'delta_e': 0.376590029999999},\n  {'name': 'AlFe',\n   'entry_id': 1217520,\n   'spacegroup': 'Pmma',\n   'ntypes': 2,\n   'band_gap': 0.0,\n   'delta_e': -0.331177930000001},\n  {'name': 'AlFe',\n   'entry_id': 1218306,\n   'spacegroup': 'F-43m',\n   'ntypes': 2,\n   'band_gap': 0.0,\n   'delta_e': 1.20344095},\n  {'name': 'AlFe',\n   'entry_id': 1224500,\n   'spacegroup': 'P63/mmc',\n   'ntypes': 2,\n   'band_gap': 0.0,\n   'delta_e': 0.6596262075},\n  {'name': 'AlFe',\n   'entry_id': 1227986,\n   'spacegroup': 'P-6m2',\n   'ntypes': 2,\n   'band_gap': 0.0,\n   'delta_e': -0.206792610000001},\n  {'name': 'AlFe',\n   'entry_id': 1338853,\n   'spacegroup': 'Cmcm',\n   'ntypes': 2,\n   'band_gap': 0.0,\n   'delta_e': -0.331629897500001},\n  {'name': 'AlFe2',\n   'entry_id': 10460,\n   'spacegroup': 'I41/amd',\n   'ntypes': 2,\n   'band_gap': 0.0,\n   'delta_e': -0.108663510000001},\n  {'name': 'AlFe2',\n   'entry_id': 1416026,\n   'spacegroup': 'Fm-3m',\n   'ntypes': 2,\n   'band_gap': 0.0,\n   'delta_e': 0.416038189999999},\n  {'name': 'AlFe3',\n   'entry_id': 10461,\n   'spacegroup': 'Fm-3m',\n   'ntypes': 2,\n   'band_gap': 0.0,\n   'delta_e': -0.200551367500001},\n  {'name': 'AlFe3',\n   'entry_id': 311670,\n   'spacegroup': 'Fm-3m',\n   'ntypes': 2,\n   'band_gap': 0.0,\n   'delta_e': -0.19992777},\n  {'name': 'AlFe3',\n   'entry_id': 318932,\n   'spacegroup': 'P63/mmc',\n   'ntypes': 2,\n   'band_gap': 0.0,\n   'delta_e': -0.184226807500001},\n  {'name': 'AlFe3',\n   'entry_id': 343418,\n   'spacegroup': 'Pm-3m',\n   'ntypes': 2,\n   'band_gap': 0.0,\n   'delta_e': -0.200428172500001},\n  {'name': 'AlFe3',\n   'entry_id': 301128,\n   'spacegroup': 'I4/mmm',\n   'ntypes': 2,\n   'band_gap': 0.0,\n   'delta_e': -0.171723880000001},\n  {'name': 'Al2Fe',\n   'entry_id': 1231472,\n   'spacegroup': 'P42/mnm',\n   'ntypes': 2,\n   'band_gap': 0.0,\n   'delta_e': 0.0669283499999995},\n  {'name': 'Al2Fe',\n   'entry_id': 1239779,\n   'spacegroup': 'Fd-3m',\n   'ntypes': 2,\n   'band_gap': 0.0,\n   'delta_e': 1.41909557166667},\n  {'name': 'Al2Fe',\n   'entry_id': 1338634,\n   'spacegroup': 'Fd-3m',\n   'ntypes': 2,\n   'band_gap': 0.0,\n   'delta_e': -0.301338075},\n  {'name': 'Al2Fe',\n   'entry_id': 1340108,\n   'spacegroup': 'Pnnm',\n   'ntypes': 2,\n   'band_gap': 0.0,\n   'delta_e': -0.359765752},\n  {'name': 'Al2Fe',\n   'entry_id': 1376945,\n   'spacegroup': 'I4/mmm',\n   'ntypes': 2,\n   'band_gap': 0.193999999999999,\n   'delta_e': -0.359988993333334},\n  {'name': 'Al2Fe',\n   'entry_id': 1416025,\n   'spacegroup': 'Fm-3m',\n   'ntypes': 2,\n   'band_gap': 0.0,\n   'delta_e': -0.0300805666666673},\n  {'name': 'Al2Fe3',\n   'entry_id': 425550,\n   'spacegroup': 'R-3c',\n   'ntypes': 2,\n   'band_gap': 0.0,\n   'delta_e': 0.302962372999999},\n  {'name': 'Al3Fe',\n   'entry_id': 308390,\n   'spacegroup': 'Fm-3m',\n   'ntypes': 2,\n   'band_gap': 0.0,\n   'delta_e': -0.0213879475000001},\n  {'name': 'Al3Fe',\n   'entry_id': 297859,\n   'spacegroup': 'I4/mmm',\n   'ntypes': 2,\n   'band_gap': 0.0,\n   'delta_e': -0.1749989675},\n  {'name': 'Al3Fe',\n   'entry_id': 322212,\n   'spacegroup': 'P63/mmc',\n   'ntypes': 2,\n   'band_gap': 0.0,\n   'delta_e': -0.158876752499999},\n  {'name': 'Al3Fe',\n   'entry_id': 346698,\n   'spacegroup': 'Pm-3m',\n   'ntypes': 2,\n   'band_gap': 0.0,\n   'delta_e': -0.1146997175},\n  {'name': 'Al5Fe3',\n   'entry_id': 1339316,\n   'spacegroup': 'P63/mcm',\n   'ntypes': 2,\n   'band_gap': 0.0,\n   'delta_e': -0.170051319375},\n  {'name': 'Al6Fe',\n   'entry_id': 19338,\n   'spacegroup': 'Cmc21',\n   'ntypes': 2,\n   'band_gap': 0.0,\n   'delta_e': -0.197171362142857},\n  {'name': 'Al6Fe',\n   'entry_id': 27782,\n   'spacegroup': 'Cmcm',\n   'ntypes': 2,\n   'band_gap': 0.0,\n   'delta_e': -0.197205381428572},\n  {'name': 'Al8Fe3',\n   'entry_id': 1338557,\n   'spacegroup': 'P-1',\n   'ntypes': 2,\n   'band_gap': 0.0,\n   'delta_e': -0.216063093636364},\n  {'name': 'Al8Fe5',\n   'entry_id': 21530,\n   'spacegroup': 'I-43m',\n   'ntypes': 2,\n   'band_gap': 0.0,\n   'delta_e': -0.281793655384616},\n  {'name': 'Al9Fe2',\n   'entry_id': 27783,\n   'spacegroup': 'P21/c',\n   'ntypes': 2,\n   'band_gap': 0.0,\n   'delta_e': -0.240078312272728}],\n 'meta': {'query': {'representation': '/formationenergy?fields=name,entry_id,spacegroup,ntypes,band_gap,delta_e&filter=element_set=(Al,Fe)%20AND%20ntypes=2'},\n  'api_version': '1.0',\n  'time_stamp': '2021-03-21 21:32:41',\n  'data_returned': 37,\n  'data_available': 37,\n  'comments': '',\n  'query_tree': '',\n  'more_data_available': False},\n 'response_message': 'OK'}"
     },
     "execution_count": 23,
     "metadata": {},
     "output_type": "execute_result"
    }
   ],
   "source": [
    "reg.json()"
   ],
   "metadata": {
    "collapsed": false,
    "pycharm": {
     "name": "#%%\n"
    }
   }
  },
  {
   "cell_type": "code",
   "execution_count": 12,
   "outputs": [
    {
     "data": {
      "text/plain": "[{'energy': -74.26228187,\n  'energy_per_atom': -7.4262281869999995,\n  'volume': 113.77037187958861,\n  'formation_energy_per_atom': -0.03217178700000005,\n  'nsites': 10,\n  'unit_cell_formula': {'Fe': 6.0, 'Ni': 4.0},\n  'pretty_formula': 'Fe3Ni2',\n  'is_hubbard': False,\n  'elements': ['Fe', 'Ni'],\n  'nelements': 2,\n  'e_above_hull': 0.021614229000005203,\n  'hubbards': {},\n  'is_compatible': True,\n  'spacegroup': {'symprec': 0.1,\n   'source': 'spglib',\n   'symbol': 'P4/mmm',\n   'number': 123,\n   'point_group': '4/mmm',\n   'crystal_system': 'tetragonal',\n   'hall': '-P 4 2'},\n  'task_ids': ['mp-1225009',\n   'mp-1398417',\n   'mp-1751353',\n   'mp-1773078',\n   'mp-1804601'],\n  'band_gap': 0.0,\n  'density': 8.317170314372055,\n  'icsd_id': None,\n  'icsd_ids': [],\n  'cif': \"# generated using pymatgen\\ndata_Fe3Ni2\\n_symmetry_space_group_name_H-M   'P 1'\\n_cell_length_a   2.50181900\\n_cell_length_b   2.50181900\\n_cell_length_c   18.17679900\\n_cell_angle_alpha   90.00000000\\n_cell_angle_beta   90.00000000\\n_cell_angle_gamma   90.00000000\\n_symmetry_Int_Tables_number   1\\n_chemical_formula_structural   Fe3Ni2\\n_chemical_formula_sum   'Fe6 Ni4'\\n_cell_volume   113.77037188\\n_cell_formula_units_Z   2\\nloop_\\n _symmetry_equiv_pos_site_id\\n _symmetry_equiv_pos_as_xyz\\n  1  'x, y, z'\\nloop_\\n _atom_site_type_symbol\\n _atom_site_label\\n _atom_site_symmetry_multiplicity\\n _atom_site_fract_x\\n _atom_site_fract_y\\n _atom_site_fract_z\\n _atom_site_occupancy\\n  Fe  Fe0  1  0.00000000  0.00000000  0.89560400  1\\n  Fe  Fe1  1  0.00000000  0.00000000  0.10439600  1\\n  Fe  Fe2  1  0.00000000  0.00000000  0.30129200  1\\n  Fe  Fe3  1  0.00000000  0.00000000  0.50000000  1\\n  Fe  Fe4  1  0.00000000  0.00000000  0.69870800  1\\n  Fe  Fe5  1  0.50000000  0.50000000  0.00000000  1\\n  Ni  Ni6  1  0.50000000  0.50000000  0.20288600  1\\n  Ni  Ni7  1  0.50000000  0.50000000  0.40017400  1\\n  Ni  Ni8  1  0.50000000  0.50000000  0.59982600  1\\n  Ni  Ni9  1  0.50000000  0.50000000  0.79711400  1\\n\",\n  'total_magnetization': 8.8499788,\n  'material_id': 'mp-1225009',\n  'oxide_type': 'None',\n  'tags': [],\n  'elasticity': None,\n  'piezo': None,\n  'diel': None,\n  'full_formula': 'Fe6Ni4'},\n {'energy': -14.24730989,\n  'energy_per_atom': -7.123654945,\n  'volume': 22.647928893243012,\n  'formation_energy_per_atom': 0.0014148349999993926,\n  'nsites': 2,\n  'unit_cell_formula': {'Fe': 1.0, 'Ni': 1.0},\n  'pretty_formula': 'FeNi',\n  'is_hubbard': False,\n  'elements': ['Fe', 'Ni'],\n  'nelements': 2,\n  'e_above_hull': 0.06864735499999952,\n  'hubbards': {},\n  'is_compatible': True,\n  'spacegroup': {'symprec': 0.1,\n   'source': 'spglib',\n   'symbol': 'R-3m',\n   'number': 166,\n   'point_group': '-3m',\n   'crystal_system': 'trigonal',\n   'hall': '-R 3 2\"'},\n  'task_ids': ['mp-1224976',\n   'mp-1424045',\n   'mp-1605857',\n   'mp-1675881',\n   'mp-1791754'],\n  'band_gap': 0.0,\n  'density': 8.397919682739822,\n  'icsd_id': None,\n  'icsd_ids': [],\n  'cif': \"# generated using pymatgen\\ndata_FeNi\\n_symmetry_space_group_name_H-M   'P 1'\\n_cell_length_a   4.37954061\\n_cell_length_b   4.37954061\\n_cell_length_c   4.37953994\\n_cell_angle_alpha   33.38430663\\n_cell_angle_beta   33.38430663\\n_cell_angle_gamma   33.38429101\\n_symmetry_Int_Tables_number   1\\n_chemical_formula_structural   FeNi\\n_chemical_formula_sum   'Fe1 Ni1'\\n_cell_volume   22.64792889\\n_cell_formula_units_Z   1\\nloop_\\n _symmetry_equiv_pos_site_id\\n _symmetry_equiv_pos_as_xyz\\n  1  'x, y, z'\\nloop_\\n _atom_site_type_symbol\\n _atom_site_label\\n _atom_site_symmetry_multiplicity\\n _atom_site_fract_x\\n _atom_site_fract_y\\n _atom_site_fract_z\\n _atom_site_occupancy\\n  Fe  Fe0  1  0.00000000  0.00000000  0.00000000  1\\n  Ni  Ni1  1  0.50000000  0.50000000  0.50000000  1\\n\",\n  'total_magnetization': 3.1659732,\n  'material_id': 'mp-1224976',\n  'oxide_type': 'None',\n  'tags': [],\n  'elasticity': None,\n  'piezo': None,\n  'diel': None,\n  'full_formula': 'Fe1Ni1'},\n {'energy': -30.69474624,\n  'energy_per_atom': -7.67368656,\n  'volume': 45.99259718762883,\n  'formation_energy_per_atom': 0.12384976999999964,\n  'nsites': 4,\n  'unit_cell_formula': {'Fe': 3.0, 'Ni': 1.0},\n  'pretty_formula': 'Fe3Ni',\n  'is_hubbard': False,\n  'elements': ['Fe', 'Ni'],\n  'nelements': 2,\n  'e_above_hull': 0.15746602999999926,\n  'hubbards': {},\n  'is_compatible': True,\n  'spacegroup': {'symprec': 0.1,\n   'source': 'spglib',\n   'symbol': 'Cmmm',\n   'number': 65,\n   'point_group': 'mmm',\n   'crystal_system': 'orthorhombic',\n   'hall': '-C 2 2'},\n  'task_ids': ['mp-1224780',\n   'mp-1410561',\n   'mp-1609665',\n   'mp-1767900',\n   'mp-1773893'],\n  'band_gap': 0.0,\n  'density': 8.167860028471221,\n  'icsd_id': None,\n  'icsd_ids': [],\n  'cif': \"# generated using pymatgen\\ndata_Fe3Ni\\n_symmetry_space_group_name_H-M   'P 1'\\n_cell_length_a   2.45894489\\n_cell_length_b   2.45894489\\n_cell_length_c   7.98077600\\n_cell_angle_alpha   90.00000000\\n_cell_angle_beta   90.00000000\\n_cell_angle_gamma   107.61436693\\n_symmetry_Int_Tables_number   1\\n_chemical_formula_structural   Fe3Ni\\n_chemical_formula_sum   'Fe3 Ni1'\\n_cell_volume   45.99259719\\n_cell_formula_units_Z   1\\nloop_\\n _symmetry_equiv_pos_site_id\\n _symmetry_equiv_pos_as_xyz\\n  1  'x, y, z'\\nloop_\\n _atom_site_type_symbol\\n _atom_site_label\\n _atom_site_symmetry_multiplicity\\n _atom_site_fract_x\\n _atom_site_fract_y\\n _atom_site_fract_z\\n _atom_site_occupancy\\n  Fe  Fe0  1  0.50000000  0.50000000  0.75100900  1\\n  Fe  Fe1  1  0.00000000  0.00000000  0.50000000  1\\n  Fe  Fe2  1  0.50000000  0.50000000  0.24899100  1\\n  Ni  Ni3  1  0.00000000  0.00000000  0.00000000  1\\n\",\n  'total_magnetization': 3.3845017,\n  'material_id': 'mp-1224780',\n  'oxide_type': 'None',\n  'tags': [],\n  'elasticity': None,\n  'piezo': None,\n  'diel': None,\n  'full_formula': 'Fe3Ni1'},\n {'energy': -25.73581376,\n  'energy_per_atom': -6.43395344,\n  'volume': 44.624037755895124,\n  'formation_energy_per_atom': 0.018649790000000444,\n  'nsites': 4,\n  'unit_cell_formula': {'Fe': 1.0, 'Ni': 3.0},\n  'pretty_formula': 'FeNi3',\n  'is_hubbard': False,\n  'elements': ['Fe', 'Ni'],\n  'nelements': 2,\n  'e_above_hull': 0.10841372750000389,\n  'hubbards': {},\n  'is_compatible': True,\n  'spacegroup': {'symprec': 0.1,\n   'source': 'spglib',\n   'symbol': 'Fm-3m',\n   'number': 225,\n   'point_group': 'm-3m',\n   'crystal_system': 'cubic',\n   'hall': '-F 4 2 3'},\n  'task_ids': ['mp-1007888',\n   'mp-1007854',\n   'mp-1007917',\n   'mp-1007945',\n   'mp-1065222',\n   'mp-1065279',\n   'mp-1065278',\n   'mp-1065240',\n   'mp-1417721',\n   'mp-1611070',\n   'mp-1733155',\n   'mp-1795415'],\n  'band_gap': 0.0,\n  'density': 8.630345313790913,\n  'icsd_id': None,\n  'icsd_ids': [188254],\n  'cif': \"# generated using pymatgen\\ndata_FeNi3\\n_symmetry_space_group_name_H-M   'P 1'\\n_cell_length_a   3.98132796\\n_cell_length_b   3.98132796\\n_cell_length_c   3.98132796\\n_cell_angle_alpha   60.00000000\\n_cell_angle_beta   60.00000000\\n_cell_angle_gamma   60.00000000\\n_symmetry_Int_Tables_number   1\\n_chemical_formula_structural   FeNi3\\n_chemical_formula_sum   'Fe1 Ni3'\\n_cell_volume   44.62403776\\n_cell_formula_units_Z   1\\nloop_\\n _symmetry_equiv_pos_site_id\\n _symmetry_equiv_pos_as_xyz\\n  1  'x, y, z'\\nloop_\\n _atom_site_type_symbol\\n _atom_site_label\\n _atom_site_symmetry_multiplicity\\n _atom_site_fract_x\\n _atom_site_fract_y\\n _atom_site_fract_z\\n _atom_site_occupancy\\n  Fe  Fe0  1  0.00000000  0.00000000  0.00000000  1\\n  Ni  Ni1  1  0.75000000  0.75000000  0.75000000  1\\n  Ni  Ni2  1  0.25000000  0.25000000  0.25000000  1\\n  Ni  Ni3  1  0.50000000  0.50000000  0.50000000  1\\n\",\n  'total_magnetization': 4.3420855,\n  'material_id': 'mp-1007854',\n  'oxide_type': 'None',\n  'tags': ['Nickel iron (3/1)'],\n  'elasticity': {'G_Reuss': -111.0,\n   'G_VRH': -19.0,\n   'G_Voigt': 74.0,\n   'G_Voigt_Reuss_Hill': -19.0,\n   'K_Reuss': 191.0,\n   'K_VRH': 191.0,\n   'K_Voigt': 191.0,\n   'K_Voigt_Reuss_Hill': 191.0,\n   'elastic_anisotropy': -8.34,\n   'elastic_tensor': [[151.0, 211.0, 211.0, 0.0, 0.0, 0.0],\n    [211.0, 151.0, 211.0, 0.0, 0.0, 0.0],\n    [211.0, 211.0, 151.0, 0.0, 0.0, 0.0],\n    [0.0, 0.0, 0.0, 144.0, 0.0, 0.0],\n    [0.0, 0.0, 0.0, 0.0, 144.0, 0.0],\n    [0.0, 0.0, 0.0, 0.0, 0.0, 144.0]],\n   'homogeneous_poisson': 0.55,\n   'poisson_ratio': 0.55,\n   'universal_anisotropy': -8.34,\n   'elastic_tensor_original': [[150.56765199091012,\n     211.44607287177266,\n     211.44607287177266,\n     0.0,\n     0.0,\n     0.0],\n    [211.44607287177266,\n     150.56765199091012,\n     211.44607287177266,\n     0.0,\n     0.0,\n     0.0],\n    [211.44607287177266,\n     211.44607287177266,\n     150.56765199091012,\n     0.0,\n     0.0,\n     0.0],\n    [0.0, 0.0, 0.0, 144.12346644972632, 0.0, 0.0],\n    [0.0, 0.0, 0.0, 0.0, 144.12346644972632, 0.0],\n    [0.0, 0.0, 0.0, 0.0, 0.0, 144.12346644972632]],\n   'compliance_tensor': [[-10.4, 6.1, 6.1, -0.0, 0.0, -0.0],\n    [6.1, -10.4, 6.1, 0.0, -0.0, 0.0],\n    [6.1, 6.1, -10.4, -0.0, -0.0, 0.0],\n    [-0.0, 0.0, -0.0, 6.9, 0.0, -0.0],\n    [0.0, -0.0, -0.0, 0.0, 6.9, -0.0],\n    [-0.0, 0.0, 0.0, -0.0, -0.0, 6.9]],\n   'warnings': ['Elastic tensor has a negative eigenvalue',\n    'c11 and c12 are within 5% or c12 is greater than c11',\n    'c11 and c13 are within 5% or c13 is greater than c11',\n    'c11 and c23 are within 5% or c23 is greater than c11',\n    'One or more K, G below 2 GPa'],\n   'nsites': 4},\n  'piezo': None,\n  'diel': None,\n  'full_formula': 'Fe1Ni3'},\n {'energy': -44.36899706,\n  'energy_per_atom': -7.394832843333333,\n  'volume': 69.55646875964705,\n  'formation_energy_per_atom': 0.17854796999999914,\n  'nsites': 6,\n  'unit_cell_formula': {'Fe': 4.0, 'Ni': 2.0},\n  'pretty_formula': 'Fe2Ni',\n  'is_hubbard': False,\n  'elements': ['Fe', 'Ni'],\n  'nelements': 2,\n  'e_above_hull': 0.22336964999999687,\n  'hubbards': {},\n  'is_compatible': True,\n  'spacegroup': {'symprec': 0.1,\n   'source': 'spglib',\n   'symbol': 'Fd-3m',\n   'number': 227,\n   'point_group': 'm-3m',\n   'crystal_system': 'cubic',\n   'hall': 'F 4d 2 3 -1d'},\n  'task_ids': ['mp-1077745',\n   'mp-1392919',\n   'mp-1615421',\n   'mp-1758510',\n   'mp-1799191'],\n  'band_gap': 0.0,\n  'density': 8.135211492055339,\n  'icsd_id': None,\n  'icsd_ids': [188275],\n  'cif': \"# generated using pymatgen\\ndata_Fe2Ni\\n_symmetry_space_group_name_H-M   'P 1'\\n_cell_length_a   4.61619530\\n_cell_length_b   4.61619530\\n_cell_length_c   4.61619530\\n_cell_angle_alpha   60.00000000\\n_cell_angle_beta   60.00000000\\n_cell_angle_gamma   60.00000000\\n_symmetry_Int_Tables_number   1\\n_chemical_formula_structural   Fe2Ni\\n_chemical_formula_sum   'Fe4 Ni2'\\n_cell_volume   69.55646876\\n_cell_formula_units_Z   2\\nloop_\\n _symmetry_equiv_pos_site_id\\n _symmetry_equiv_pos_as_xyz\\n  1  'x, y, z'\\nloop_\\n _atom_site_type_symbol\\n _atom_site_label\\n _atom_site_symmetry_multiplicity\\n _atom_site_fract_x\\n _atom_site_fract_y\\n _atom_site_fract_z\\n _atom_site_occupancy\\n  Fe  Fe0  1  0.62500000  0.62500000  0.12500000  1\\n  Fe  Fe1  1  0.62500000  0.12500000  0.62500000  1\\n  Fe  Fe2  1  0.12500000  0.62500000  0.62500000  1\\n  Fe  Fe3  1  0.62500000  0.62500000  0.62500000  1\\n  Ni  Ni4  1  0.25000000  0.25000000  0.25000000  1\\n  Ni  Ni5  1  0.00000000  0.00000000  0.00000000  1\\n\",\n  'total_magnetization': 4.94144305,\n  'material_id': 'mp-1077745',\n  'oxide_type': 'None',\n  'tags': ['Iron nickel (2/1)'],\n  'elasticity': None,\n  'piezo': None,\n  'diel': None,\n  'full_formula': 'Fe4Ni2'},\n {'energy': -25.85466483,\n  'energy_per_atom': -6.4636662075,\n  'volume': 44.1881466347491,\n  'formation_energy_per_atom': -0.01106297749999996,\n  'nsites': 4,\n  'unit_cell_formula': {'Fe': 1.0, 'Ni': 3.0},\n  'pretty_formula': 'FeNi3',\n  'is_hubbard': False,\n  'elements': ['Fe', 'Ni'],\n  'nelements': 2,\n  'e_above_hull': 0.07870096000000348,\n  'hubbards': {},\n  'is_compatible': True,\n  'spacegroup': {'symprec': 0.1,\n   'source': 'spglib',\n   'symbol': 'R-3m',\n   'number': 166,\n   'point_group': '-3m',\n   'crystal_system': 'trigonal',\n   'hall': '-R 3 2\"'},\n  'task_ids': ['mp-1225078',\n   'mp-1406305',\n   'mp-1638373',\n   'mp-1716938',\n   'mp-1793098'],\n  'band_gap': 0.0,\n  'density': 8.715478798247746,\n  'icsd_id': None,\n  'icsd_ids': [],\n  'cif': \"# generated using pymatgen\\ndata_FeNi3\\n_symmetry_space_group_name_H-M   'P 1'\\n_cell_length_a   8.29843659\\n_cell_length_b   8.29843659\\n_cell_length_c   8.29843633\\n_cell_angle_alpha   17.31817971\\n_cell_angle_beta   17.31817971\\n_cell_angle_gamma   17.31818027\\n_symmetry_Int_Tables_number   1\\n_chemical_formula_structural   FeNi3\\n_chemical_formula_sum   'Fe1 Ni3'\\n_cell_volume   44.18814663\\n_cell_formula_units_Z   1\\nloop_\\n _symmetry_equiv_pos_site_id\\n _symmetry_equiv_pos_as_xyz\\n  1  'x, y, z'\\nloop_\\n _atom_site_type_symbol\\n _atom_site_label\\n _atom_site_symmetry_multiplicity\\n _atom_site_fract_x\\n _atom_site_fract_y\\n _atom_site_fract_z\\n _atom_site_occupancy\\n  Fe  Fe0  1  0.00000000  0.00000000  0.00000000  1\\n  Ni  Ni1  1  0.25031000  0.25031000  0.25031000  1\\n  Ni  Ni2  1  0.50000000  0.50000000  0.50000000  1\\n  Ni  Ni3  1  0.74969000  0.74969000  0.74969000  1\\n\",\n  'total_magnetization': 4.2694051,\n  'material_id': 'mp-1225078',\n  'oxide_type': 'None',\n  'tags': [],\n  'elasticity': None,\n  'piezo': None,\n  'diel': None,\n  'full_formula': 'Fe1Ni3'},\n {'energy': -26.16946867,\n  'energy_per_atom': -6.5423671675,\n  'volume': 44.26403913540868,\n  'formation_energy_per_atom': -0.08976393749999989,\n  'nsites': 4,\n  'unit_cell_formula': {'Fe': 1.0, 'Ni': 3.0},\n  'pretty_formula': 'FeNi3',\n  'is_hubbard': False,\n  'elements': ['Fe', 'Ni'],\n  'nelements': 2,\n  'e_above_hull': 0,\n  'hubbards': {},\n  'is_compatible': True,\n  'spacegroup': {'symprec': 0.1,\n   'source': 'spglib',\n   'symbol': 'Pm-3m',\n   'number': 221,\n   'point_group': 'm-3m',\n   'crystal_system': 'cubic',\n   'hall': '-P 4 2 3'},\n  'task_ids': ['mp-923337',\n   'mp-922550',\n   'mp-908084',\n   'mp-1418',\n   'mp-1063663',\n   'mp-1063696',\n   'mp-1063698',\n   'mp-1063561',\n   'mp-1064587',\n   'mp-1064642',\n   'mp-1064656',\n   'mp-1064518',\n   'mp-1442315',\n   'mp-1591497',\n   'mp-1687823',\n   'mp-1792465'],\n  'band_gap': 0.0,\n  'density': 8.700535754337515,\n  'icsd_id': None,\n  'icsd_ids': [5116, 103557, 188230, 632926, 40334, 632929],\n  'cif': \"# generated using pymatgen\\ndata_FeNi3\\n_symmetry_space_group_name_H-M   'P 1'\\n_cell_length_a   3.53739600\\n_cell_length_b   3.53739600\\n_cell_length_c   3.53739600\\n_cell_angle_alpha   90.00000000\\n_cell_angle_beta   90.00000000\\n_cell_angle_gamma   90.00000000\\n_symmetry_Int_Tables_number   1\\n_chemical_formula_structural   FeNi3\\n_chemical_formula_sum   'Fe1 Ni3'\\n_cell_volume   44.26403914\\n_cell_formula_units_Z   1\\nloop_\\n _symmetry_equiv_pos_site_id\\n _symmetry_equiv_pos_as_xyz\\n  1  'x, y, z'\\nloop_\\n _atom_site_type_symbol\\n _atom_site_label\\n _atom_site_symmetry_multiplicity\\n _atom_site_fract_x\\n _atom_site_fract_y\\n _atom_site_fract_z\\n _atom_site_occupancy\\n  Fe  Fe0  1  0.00000000  0.00000000  0.00000000  1\\n  Ni  Ni1  1  0.50000000  0.50000000  0.00000000  1\\n  Ni  Ni2  1  0.50000000  0.00000000  0.50000000  1\\n  Ni  Ni3  1  0.00000000  0.50000000  0.50000000  1\\n\",\n  'total_magnetization': 4.7135299,\n  'material_id': 'mp-1418',\n  'oxide_type': 'None',\n  'tags': ['Iron nickel (1/3)',\n   'Awaruite',\n   'Nickel iron (3/1)',\n   'Iron nickel (3/1)',\n   'Taenite'],\n  'elasticity': {'G_Reuss': 90.0,\n   'G_VRH': 96.0,\n   'G_Voigt': 103.0,\n   'G_Voigt_Reuss_Hill': 96.0,\n   'K_Reuss': 203.0,\n   'K_VRH': 203.0,\n   'K_Voigt': 203.0,\n   'K_Voigt_Reuss_Hill': 203.0,\n   'elastic_anisotropy': 0.73,\n   'elastic_tensor': [[284.0, 162.0, 162.0, 0.0, 0.0, 0.0],\n    [162.0, 284.0, 162.0, 0.0, 0.0, 0.0],\n    [162.0, 162.0, 284.0, 0.0, 0.0, 0.0],\n    [0.0, 0.0, 0.0, 131.0, 0.0, 0.0],\n    [0.0, 0.0, 0.0, 0.0, 131.0, 0.0],\n    [0.0, 0.0, 0.0, 0.0, 0.0, 131.0]],\n   'homogeneous_poisson': 0.3,\n   'poisson_ratio': 0.3,\n   'universal_anisotropy': 0.73,\n   'elastic_tensor_original': [[284.30323605919955,\n     162.48995501202538,\n     162.48995501202538,\n     0.0,\n     0.0,\n     0.0],\n    [162.49079180459552, 284.3025735478728, 162.49079180459552, 0.0, 0.0, 0.0],\n    [162.4953785728889, 162.4953785728889, 284.3064433258736, 0.0, 0.0, 0.0],\n    [7.303715925222984e-05,\n     4.938060971906676e-05,\n     0.00040329370884413426,\n     130.71118738483065,\n     0.0,\n     0.0],\n    [-0.0004060263716261001,\n     0.0002140466092997936,\n     -0.00032007314739927533,\n     0.0,\n     130.71075547615857,\n     0.0],\n    [-0.00022616290951187745,\n     -0.00022678624601370914,\n     7.29168385880574e-05,\n     0.0,\n     0.0,\n     130.7110721528356]],\n   'compliance_tensor': [[6.0, -2.2, -2.2, 0.0, 0.0, -0.0],\n    [-2.2, 6.0, -2.2, 0.0, -0.0, -0.0],\n    [-2.2, -2.2, 6.0, 0.0, 0.0, 0.0],\n    [0.0, 0.0, 0.0, 7.7, 0.0, 0.0],\n    [0.0, -0.0, 0.0, 0.0, 7.7, 0.0],\n    [-0.0, -0.0, 0.0, 0.0, 0.0, 7.7]],\n   'warnings': [],\n   'nsites': 4},\n  'piezo': None,\n  'diel': None,\n  'full_formula': 'Fe1Ni3'},\n {'energy': -30.84315598,\n  'energy_per_atom': -7.710788995,\n  'volume': 45.000763408043646,\n  'formation_energy_per_atom': 0.08674733500000009,\n  'nsites': 4,\n  'unit_cell_formula': {'Fe': 3.0, 'Ni': 1.0},\n  'pretty_formula': 'Fe3Ni',\n  'is_hubbard': False,\n  'elements': ['Fe', 'Ni'],\n  'nelements': 2,\n  'e_above_hull': 0.12036359499999971,\n  'hubbards': {},\n  'is_compatible': True,\n  'spacegroup': {'symprec': 0.1,\n   'source': 'spglib',\n   'symbol': 'R-3m',\n   'number': 166,\n   'point_group': '-3m',\n   'crystal_system': 'trigonal',\n   'hall': '-R 3 2\"'},\n  'task_ids': ['mp-1224827',\n   'mp-1387705',\n   'mp-1585449',\n   'mp-1655902',\n   'mp-1766359',\n   'mp-1792812'],\n  'band_gap': 0.0,\n  'density': 8.347882740746217,\n  'icsd_id': None,\n  'icsd_ids': [],\n  'cif': \"# generated using pymatgen\\ndata_Fe3Ni\\n_symmetry_space_group_name_H-M   'P 1'\\n_cell_length_a   8.41658029\\n_cell_length_b   8.41658029\\n_cell_length_c   8.41658012\\n_cell_angle_alpha   17.10517836\\n_cell_angle_beta   17.10517836\\n_cell_angle_gamma   17.10518398\\n_symmetry_Int_Tables_number   1\\n_chemical_formula_structural   Fe3Ni\\n_chemical_formula_sum   'Fe3 Ni1'\\n_cell_volume   45.00076341\\n_cell_formula_units_Z   1\\nloop_\\n _symmetry_equiv_pos_site_id\\n _symmetry_equiv_pos_as_xyz\\n  1  'x, y, z'\\nloop_\\n _atom_site_type_symbol\\n _atom_site_label\\n _atom_site_symmetry_multiplicity\\n _atom_site_fract_x\\n _atom_site_fract_y\\n _atom_site_fract_z\\n _atom_site_occupancy\\n  Fe  Fe0  1  0.25013200  0.25013200  0.25013200  1\\n  Fe  Fe1  1  0.50000000  0.50000000  0.50000000  1\\n  Fe  Fe2  1  0.74986800  0.74986800  0.74986800  1\\n  Ni  Ni3  1  0.00000000  0.00000000  0.00000000  1\\n\",\n  'total_magnetization': 8.0423366,\n  'material_id': 'mp-1224827',\n  'oxide_type': 'None',\n  'tags': [],\n  'elasticity': None,\n  'piezo': None,\n  'diel': None,\n  'full_formula': 'Fe3Ni1'},\n {'energy': -52.20837548,\n  'energy_per_atom': -6.526046935,\n  'volume': 88.52715072287765,\n  'formation_energy_per_atom': -0.07344370499999986,\n  'nsites': 8,\n  'unit_cell_formula': {'Fe': 2.0, 'Ni': 6.0},\n  'pretty_formula': 'FeNi3',\n  'is_hubbard': False,\n  'elements': ['Fe', 'Ni'],\n  'nelements': 2,\n  'e_above_hull': 0.016320232500003584,\n  'hubbards': {},\n  'is_compatible': True,\n  'spacegroup': {'symprec': 0.1,\n   'source': 'spglib',\n   'symbol': 'Pmmn',\n   'number': 59,\n   'point_group': 'mmm',\n   'crystal_system': 'orthorhombic',\n   'hall': 'P 2 2ab -1ab'},\n  'task_ids': ['mp-1079337',\n   'mp-1386394',\n   'mp-1627481',\n   'mp-1761579',\n   'mp-1781828'],\n  'band_gap': 0.0,\n  'density': 8.700626914664571,\n  'icsd_id': None,\n  'icsd_ids': [188284],\n  'cif': \"# generated using pymatgen\\ndata_FeNi3\\n_symmetry_space_group_name_H-M   'P 1'\\n_cell_length_a   4.05514500\\n_cell_length_b   4.36253400\\n_cell_length_c   5.00416100\\n_cell_angle_alpha   90.00000000\\n_cell_angle_beta   90.00000000\\n_cell_angle_gamma   90.00000000\\n_symmetry_Int_Tables_number   1\\n_chemical_formula_structural   FeNi3\\n_chemical_formula_sum   'Fe2 Ni6'\\n_cell_volume   88.52715072\\n_cell_formula_units_Z   2\\nloop_\\n _symmetry_equiv_pos_site_id\\n _symmetry_equiv_pos_as_xyz\\n  1  'x, y, z'\\nloop_\\n _atom_site_type_symbol\\n _atom_site_label\\n _atom_site_symmetry_multiplicity\\n _atom_site_fract_x\\n _atom_site_fract_y\\n _atom_site_fract_z\\n _atom_site_occupancy\\n  Fe  Fe0  1  0.50000000  0.66615600  0.50000000  1\\n  Fe  Fe1  1  0.00000000  0.33384400  0.00000000  1\\n  Ni  Ni2  1  0.00000000  0.33013400  0.50000000  1\\n  Ni  Ni3  1  0.50000000  0.66986600  0.00000000  1\\n  Ni  Ni4  1  0.50000000  0.16655400  0.74794900  1\\n  Ni  Ni5  1  0.00000000  0.83344600  0.24794900  1\\n  Ni  Ni6  1  0.00000000  0.83344600  0.75205100  1\\n  Ni  Ni7  1  0.50000000  0.16655400  0.25205100  1\\n\",\n  'total_magnetization': 4.54600215,\n  'material_id': 'mp-1079337',\n  'oxide_type': 'None',\n  'tags': ['Nickel iron (3/1)'],\n  'elasticity': None,\n  'piezo': None,\n  'diel': None,\n  'full_formula': 'Fe2Ni6'},\n {'energy': -39.43900641,\n  'energy_per_atom': -6.573167734999999,\n  'volume': 70.25792781888661,\n  'formation_energy_per_atom': 0.1035910116666668,\n  'nsites': 6,\n  'unit_cell_formula': {'Fe': 2.0, 'Ni': 4.0},\n  'pretty_formula': 'FeNi2',\n  'is_hubbard': False,\n  'elements': ['Fe', 'Ni'],\n  'nelements': 2,\n  'e_above_hull': 0.18584447666666648,\n  'hubbards': {},\n  'is_compatible': True,\n  'spacegroup': {'symprec': 0.1,\n   'source': 'spglib',\n   'symbol': 'Fd-3m',\n   'number': 227,\n   'point_group': 'm-3m',\n   'crystal_system': 'cubic',\n   'hall': 'F 4d 2 3 -1d'},\n  'task_ids': ['mp-1072076',\n   'mp-1072323',\n   'mp-1072335',\n   'mp-1072257',\n   'mp-1443319',\n   'mp-1584958',\n   'mp-1735199',\n   'mp-1772802',\n   'mp-1800957'],\n  'band_gap': 0.0,\n  'density': 8.18863238377805,\n  'icsd_id': None,\n  'icsd_ids': [188272],\n  'cif': \"# generated using pymatgen\\ndata_FeNi2\\n_symmetry_space_group_name_H-M   'P 1'\\n_cell_length_a   4.63166114\\n_cell_length_b   4.63166114\\n_cell_length_c   4.63166114\\n_cell_angle_alpha   60.00000000\\n_cell_angle_beta   60.00000000\\n_cell_angle_gamma   60.00000000\\n_symmetry_Int_Tables_number   1\\n_chemical_formula_structural   FeNi2\\n_chemical_formula_sum   'Fe2 Ni4'\\n_cell_volume   70.25792782\\n_cell_formula_units_Z   2\\nloop_\\n _symmetry_equiv_pos_site_id\\n _symmetry_equiv_pos_as_xyz\\n  1  'x, y, z'\\nloop_\\n _atom_site_type_symbol\\n _atom_site_label\\n _atom_site_symmetry_multiplicity\\n _atom_site_fract_x\\n _atom_site_fract_y\\n _atom_site_fract_z\\n _atom_site_occupancy\\n  Fe  Fe0  1  0.25000000  0.25000000  0.25000000  1\\n  Fe  Fe1  1  0.00000000  0.00000000  0.00000000  1\\n  Ni  Ni2  1  0.62500000  0.62500000  0.12500000  1\\n  Ni  Ni3  1  0.62500000  0.12500000  0.62500000  1\\n  Ni  Ni4  1  0.12500000  0.62500000  0.62500000  1\\n  Ni  Ni5  1  0.62500000  0.62500000  0.62500000  1\\n\",\n  'total_magnetization': 3.9491244,\n  'material_id': 'mp-1072076',\n  'oxide_type': 'None',\n  'tags': ['Nickel iron (2/1)'],\n  'elasticity': None,\n  'piezo': None,\n  'diel': None,\n  'full_formula': 'Fe2Ni4'},\n {'energy': -14.3846046,\n  'energy_per_atom': -7.1923023,\n  'volume': 22.50176192294538,\n  'formation_energy_per_atom': -0.06723252000000013,\n  'nsites': 2,\n  'unit_cell_formula': {'Fe': 1.0, 'Ni': 1.0},\n  'pretty_formula': 'FeNi',\n  'is_hubbard': False,\n  'elements': ['Fe', 'Ni'],\n  'nelements': 2,\n  'e_above_hull': 0,\n  'hubbards': {},\n  'is_compatible': True,\n  'spacegroup': {'symprec': 0.1,\n   'source': 'spglib',\n   'symbol': 'P4/mmm',\n   'number': 123,\n   'point_group': '4/mmm',\n   'crystal_system': 'tetragonal',\n   'hall': '-P 4 2'},\n  'task_ids': ['mp-988766',\n   'mp-987895',\n   'mp-988127',\n   'mp-2213',\n   'mp-1439098',\n   'mp-1595872',\n   'mp-1687487',\n   'mp-1792389'],\n  'band_gap': 0.0,\n  'density': 8.45247089881936,\n  'icsd_id': None,\n  'icsd_ids': [632913, 103555],\n  'cif': \"# generated using pymatgen\\ndata_FeNi\\n_symmetry_space_group_name_H-M   'P 1'\\n_cell_length_a   2.50661100\\n_cell_length_b   2.50661100\\n_cell_length_c   3.58131600\\n_cell_angle_alpha   90.00000000\\n_cell_angle_beta   90.00000000\\n_cell_angle_gamma   90.00000000\\n_symmetry_Int_Tables_number   1\\n_chemical_formula_structural   FeNi\\n_chemical_formula_sum   'Fe1 Ni1'\\n_cell_volume   22.50176192\\n_cell_formula_units_Z   1\\nloop_\\n _symmetry_equiv_pos_site_id\\n _symmetry_equiv_pos_as_xyz\\n  1  'x, y, z'\\nloop_\\n _atom_site_type_symbol\\n _atom_site_label\\n _atom_site_symmetry_multiplicity\\n _atom_site_fract_x\\n _atom_site_fract_y\\n _atom_site_fract_z\\n _atom_site_occupancy\\n  Fe  Fe0  1  0.00000000  0.00000000  0.00000000  1\\n  Ni  Ni1  1  0.50000000  0.50000000  0.50000000  1\\n\",\n  'total_magnetization': 3.1939201,\n  'material_id': 'mp-2213',\n  'oxide_type': 'None',\n  'tags': ['Tetrataenite', 'Iron nickel (1/1)'],\n  'elasticity': {'G_Reuss': 81.0,\n   'G_VRH': 92.0,\n   'G_Voigt': 103.0,\n   'G_Voigt_Reuss_Hill': 92.0,\n   'K_Reuss': 187.0,\n   'K_VRH': 187.0,\n   'K_Voigt': 187.0,\n   'K_Voigt_Reuss_Hill': 187.0,\n   'elastic_anisotropy': 1.35,\n   'elastic_tensor': [[356.0, 58.0, 140.0, 0.0, 0.0, 0.0],\n    [58.0, 356.0, 140.0, 0.0, 0.0, 0.0],\n    [140.0, 140.0, 296.0, 0.0, 0.0, 0.0],\n    [0.0, 0.0, 0.0, 126.0, 0.0, 0.0],\n    [0.0, 0.0, 0.0, 0.0, 126.0, 0.0],\n    [0.0, 0.0, 0.0, 0.0, 0.0, 39.0]],\n   'homogeneous_poisson': 0.29,\n   'poisson_ratio': 0.29,\n   'universal_anisotropy': 1.35,\n   'elastic_tensor_original': [[355.6867966204295,\n     57.954066884775635,\n     139.25620584567636,\n     0.0,\n     0.0,\n     0.0],\n    [57.95700755525245, 355.6889436066934, 139.25940242889493, 0.0, 0.0, 0.0],\n    [141.51292162883905, 141.51292162883905, 295.7732894675126, 0.0, 0.0, 0.0],\n    [1.611193768618312,\n     1.2488810533806471,\n     1.4446059347166986,\n     126.39502895141149,\n     0.0,\n     0.0],\n    [1.2316226668277108,\n     1.5859255105101917,\n     1.4184205245162176,\n     0.0,\n     126.26661138027481,\n     0.0],\n    [-0.20345867695641048,\n     -0.022007467347851604,\n     0.4177017920344278,\n     0.0,\n     0.0,\n     39.01842283546716]],\n   'compliance_tensor': [[3.5, 0.1, -1.7, -0.0, 0.0, -0.0],\n    [0.1, 3.5, -1.7, -0.0, 0.0, -0.0],\n    [-1.7, -1.7, 5.0, 0.0, 0.0, 0.0],\n    [-0.0, -0.0, 0.0, 7.9, 0.0, 0.0],\n    [0.0, 0.0, 0.0, 0.0, 7.9, 0.0],\n    [-0.0, -0.0, 0.0, 0.0, 0.0, 25.6]],\n   'warnings': [],\n   'nsites': 2},\n  'piezo': None,\n  'diel': None,\n  'full_formula': 'Fe1Ni1'},\n {'energy': -31.08822882,\n  'energy_per_atom': -7.772057205,\n  'volume': 46.43039864620607,\n  'formation_energy_per_atom': 0.025479124999999492,\n  'nsites': 4,\n  'unit_cell_formula': {'Fe': 3.0, 'Ni': 1.0},\n  'pretty_formula': 'Fe3Ni',\n  'is_hubbard': False,\n  'elements': ['Fe', 'Ni'],\n  'nelements': 2,\n  'e_above_hull': 0.05909538499999911,\n  'hubbards': {},\n  'is_compatible': True,\n  'spacegroup': {'symprec': 0.1,\n   'source': 'spglib',\n   'symbol': 'Fm-3m',\n   'number': 225,\n   'point_group': 'm-3m',\n   'crystal_system': 'cubic',\n   'hall': '-F 4 2 3'},\n  'task_ids': ['mp-1007853',\n   'mp-1007886',\n   'mp-1007914',\n   'mp-1007941',\n   'mp-1067444',\n   'mp-1067466',\n   'mp-1067541',\n   'mp-1067550',\n   'mp-1429102',\n   'mp-1611868',\n   'mp-1768085',\n   'mp-1773401',\n   'mp-1790955'],\n  'band_gap': 0.0,\n  'density': 8.090843652601452,\n  'icsd_id': None,\n  'icsd_ids': [188257],\n  'cif': \"# generated using pymatgen\\ndata_Fe3Ni\\n_symmetry_space_group_name_H-M   'P 1'\\n_cell_length_a   4.03433976\\n_cell_length_b   4.03433976\\n_cell_length_c   4.03433976\\n_cell_angle_alpha   60.00000000\\n_cell_angle_beta   60.00000000\\n_cell_angle_gamma   60.00000000\\n_symmetry_Int_Tables_number   1\\n_chemical_formula_structural   Fe3Ni\\n_chemical_formula_sum   'Fe3 Ni1'\\n_cell_volume   46.43039865\\n_cell_formula_units_Z   1\\nloop_\\n _symmetry_equiv_pos_site_id\\n _symmetry_equiv_pos_as_xyz\\n  1  'x, y, z'\\nloop_\\n _atom_site_type_symbol\\n _atom_site_label\\n _atom_site_symmetry_multiplicity\\n _atom_site_fract_x\\n _atom_site_fract_y\\n _atom_site_fract_z\\n _atom_site_occupancy\\n  Fe  Fe0  1  0.75000000  0.75000000  0.75000000  1\\n  Fe  Fe1  1  0.25000000  0.25000000  0.25000000  1\\n  Fe  Fe2  1  0.50000000  0.50000000  0.50000000  1\\n  Ni  Ni3  1  0.00000000  0.00000000  0.00000000  1\\n\",\n  'total_magnetization': 8.5136151,\n  'material_id': 'mp-1007853',\n  'oxide_type': 'None',\n  'tags': ['Iron nickel (3/1)'],\n  'elasticity': {'G_Reuss': 65.0,\n   'G_VRH': 75.0,\n   'G_Voigt': 85.0,\n   'G_Voigt_Reuss_Hill': 75.0,\n   'K_Reuss': 194.0,\n   'K_VRH': 194.0,\n   'K_Voigt': 194.0,\n   'K_Voigt_Reuss_Hill': 194.0,\n   'elastic_anisotropy': 1.55,\n   'elastic_tensor': [[246.0, 168.0, 168.0, 0.0, 0.0, 0.0],\n    [168.0, 246.0, 168.0, 0.0, 0.0, 0.0],\n    [168.0, 168.0, 246.0, 0.0, 0.0, 0.0],\n    [0.0, 0.0, 0.0, 116.0, 0.0, 0.0],\n    [0.0, 0.0, 0.0, 0.0, 116.0, 0.0],\n    [0.0, 0.0, 0.0, 0.0, 0.0, 116.0]],\n   'homogeneous_poisson': 0.33,\n   'poisson_ratio': 0.33,\n   'universal_anisotropy': 1.55,\n   'elastic_tensor_original': [[246.073578183933,\n     167.57282206687302,\n     167.57282206687302,\n     0.0,\n     0.0,\n     0.0],\n    [167.57282206687302, 246.073578183933, 167.57282206687302, 0.0, 0.0, 0.0],\n    [167.57282206687302, 167.57282206687302, 246.073578183933, 0.0, 0.0, 0.0],\n    [0.0, 0.0, 0.0, 115.72797790229014, 0.0, 0.0],\n    [0.0, 0.0, 0.0, 0.0, 115.72797790229014, 0.0],\n    [0.0, 0.0, 0.0, 0.0, 0.0, 115.72797790229014]],\n   'compliance_tensor': [[9.1, -3.7, -3.7, 0.0, -0.0, -0.0],\n    [-3.7, 9.1, -3.7, -0.0, 0.0, 0.0],\n    [-3.7, -3.7, 9.1, -0.0, -0.0, 0.0],\n    [0.0, -0.0, -0.0, 8.6, 0.0, -0.0],\n    [-0.0, 0.0, -0.0, 0.0, 8.6, -0.0],\n    [-0.0, 0.0, 0.0, -0.0, -0.0, 8.6]],\n   'warnings': [],\n   'nsites': 4},\n  'piezo': None,\n  'diel': None,\n  'full_formula': 'Fe3Ni1'},\n {'energy': -26.10133858,\n  'energy_per_atom': -6.525334645,\n  'volume': 44.20546592147309,\n  'formation_energy_per_atom': -0.0727314149999998,\n  'nsites': 4,\n  'unit_cell_formula': {'Fe': 1.0, 'Ni': 3.0},\n  'pretty_formula': 'FeNi3',\n  'is_hubbard': False,\n  'elements': ['Fe', 'Ni'],\n  'nelements': 2,\n  'e_above_hull': 0.017032522500003644,\n  'hubbards': {},\n  'is_compatible': True,\n  'spacegroup': {'symprec': 0.1,\n   'source': 'spglib',\n   'symbol': 'I4/mmm',\n   'number': 139,\n   'point_group': '4/mmm',\n   'crystal_system': 'tetragonal',\n   'hall': '-I 4 2'},\n  'task_ids': ['mp-1007894',\n   'mp-1007916',\n   'mp-1007946',\n   'mp-1007855',\n   'mp-1064649',\n   'mp-1064900',\n   'mp-1064736',\n   'mp-1064804',\n   'mp-1433723',\n   'mp-1611600',\n   'mp-1763596',\n   'mp-1773874',\n   'mp-1794325'],\n  'band_gap': 0.0,\n  'density': 8.712064155440634,\n  'icsd_id': None,\n  'icsd_ids': [188242],\n  'cif': \"# generated using pymatgen\\ndata_FeNi3\\n_symmetry_space_group_name_H-M   'P 1'\\n_cell_length_a   4.33279830\\n_cell_length_b   4.33279830\\n_cell_length_c   4.33279830\\n_cell_angle_alpha   131.86473251\\n_cell_angle_beta   131.86473251\\n_cell_angle_gamma   70.44275125\\n_symmetry_Int_Tables_number   1\\n_chemical_formula_structural   FeNi3\\n_chemical_formula_sum   'Fe1 Ni3'\\n_cell_volume   44.20546592\\n_cell_formula_units_Z   1\\nloop_\\n _symmetry_equiv_pos_site_id\\n _symmetry_equiv_pos_as_xyz\\n  1  'x, y, z'\\nloop_\\n _atom_site_type_symbol\\n _atom_site_label\\n _atom_site_symmetry_multiplicity\\n _atom_site_fract_x\\n _atom_site_fract_y\\n _atom_site_fract_z\\n _atom_site_occupancy\\n  Fe  Fe0  1  0.00000000  0.00000000  0.00000000  1\\n  Ni  Ni1  1  0.50000000  0.50000000  0.00000000  1\\n  Ni  Ni2  1  0.75000000  0.25000000  0.50000000  1\\n  Ni  Ni3  1  0.25000000  0.75000000  0.50000000  1\\n\",\n  'total_magnetization': 4.4393089,\n  'material_id': 'mp-1007855',\n  'oxide_type': 'None',\n  'tags': ['Nickel iron (3/1)'],\n  'elasticity': {'G_Reuss': 82.0,\n   'G_VRH': 91.0,\n   'G_Voigt': 99.0,\n   'G_Voigt_Reuss_Hill': 91.0,\n   'K_Reuss': 194.0,\n   'K_VRH': 195.0,\n   'K_Voigt': 195.0,\n   'K_Voigt_Reuss_Hill': 195.0,\n   'elastic_anisotropy': 1.05,\n   'elastic_tensor': [[258.0, 159.0, 159.0, 0.0, 0.0, 0.0],\n    [159.0, 258.0, 159.0, 0.0, 0.0, 0.0],\n    [159.0, 159.0, 281.0, 0.0, 0.0, 0.0],\n    [0.0, 0.0, 0.0, 127.0, 0.0, 0.0],\n    [0.0, 0.0, 0.0, 0.0, 127.0, 0.0],\n    [0.0, 0.0, 0.0, 0.0, 0.0, 135.0]],\n   'homogeneous_poisson': 0.3,\n   'poisson_ratio': 0.3,\n   'universal_anisotropy': 1.05,\n   'elastic_tensor_original': [[257.890372417963,\n     159.06608709980566,\n     155.3024341283046,\n     4.379894532447585e-05,\n     4.379894532447585e-05,\n     0.0],\n    [159.06608709979332,\n     257.890372417963,\n     155.3024341283046,\n     4.3798945314502305e-05,\n     4.0540051692018624e-07,\n     0.0],\n    [163.61777652571996,\n     163.61777652571996,\n     281.19076000682117,\n     7.880040567479801e-05,\n     7.880040567479801e-05,\n     0.0],\n    [0.0,\n     3.628074506524706e-05,\n     0.0,\n     127.46472311274343,\n     -1.66519130322526e-07,\n     1.8140351129248086e-05],\n    [3.628074505706288e-05,\n     0.0,\n     0.0,\n     1.6651913029220435e-07,\n     127.46472311274346,\n     1.814039406646983e-05],\n    [1.352499818962797,\n     -1.3524998189628346,\n     0.0,\n     0.0,\n     -7.792954758927597e-09,\n     135.24467353949305]],\n   'compliance_tensor': [[7.2, -2.9, -2.4, 0.0, -0.0, 0.0],\n    [-2.9, 7.2, -2.4, -0.0, 0.0, 0.0],\n    [-2.4, -2.4, 6.3, -0.0, -0.0, 0.0],\n    [0.0, -0.0, -0.0, 7.8, 0.0, -0.0],\n    [-0.0, 0.0, -0.0, 0.0, 7.8, -0.0],\n    [0.0, 0.0, 0.0, -0.0, -0.0, 7.4]],\n   'warnings': [],\n   'nsites': 4},\n  'piezo': None,\n  'diel': None,\n  'full_formula': 'Fe1Ni3'},\n {'energy': -14.21814067,\n  'energy_per_atom': -7.109070335,\n  'volume': 22.488644275324734,\n  'formation_energy_per_atom': 0.01599944499999939,\n  'nsites': 2,\n  'unit_cell_formula': {'Fe': 1.0, 'Ni': 1.0},\n  'pretty_formula': 'FeNi',\n  'is_hubbard': False,\n  'elements': ['Fe', 'Ni'],\n  'nelements': 2,\n  'e_above_hull': 0.08323196499999952,\n  'hubbards': {},\n  'is_compatible': True,\n  'spacegroup': {'symprec': 0.1,\n   'source': 'spglib',\n   'symbol': 'Cmmm',\n   'number': 65,\n   'point_group': 'mmm',\n   'crystal_system': 'orthorhombic',\n   'hall': '-C 2 2'},\n  'task_ids': ['mp-1224965',\n   'mp-1382130',\n   'mp-1610485',\n   'mp-1674917',\n   'mp-1790601'],\n  'band_gap': 0.0,\n  'density': 8.457401233143523,\n  'icsd_id': None,\n  'icsd_ids': [],\n  'cif': \"# generated using pymatgen\\ndata_FeNi\\n_symmetry_space_group_name_H-M   'P 1'\\n_cell_length_a   2.44757272\\n_cell_length_b   2.44757272\\n_cell_length_c   3.94928800\\n_cell_angle_alpha   90.00000000\\n_cell_angle_beta   90.00000000\\n_cell_angle_gamma   108.09436768\\n_symmetry_Int_Tables_number   1\\n_chemical_formula_structural   FeNi\\n_chemical_formula_sum   'Fe1 Ni1'\\n_cell_volume   22.48864428\\n_cell_formula_units_Z   1\\nloop_\\n _symmetry_equiv_pos_site_id\\n _symmetry_equiv_pos_as_xyz\\n  1  'x, y, z'\\nloop_\\n _atom_site_type_symbol\\n _atom_site_label\\n _atom_site_symmetry_multiplicity\\n _atom_site_fract_x\\n _atom_site_fract_y\\n _atom_site_fract_z\\n _atom_site_occupancy\\n  Fe  Fe0  1  0.00000000  0.00000000  0.00000000  1\\n  Ni  Ni1  1  0.50000000  0.50000000  0.50000000  1\\n\",\n  'total_magnetization': 3.2573547,\n  'material_id': 'mp-1224965',\n  'oxide_type': 'None',\n  'tags': [],\n  'elasticity': None,\n  'piezo': None,\n  'diel': None,\n  'full_formula': 'Fe1Ni1'},\n {'energy': -31.01410265,\n  'energy_per_atom': -7.7535256625,\n  'volume': 46.06103922503529,\n  'formation_energy_per_atom': 0.04401066749999938,\n  'nsites': 4,\n  'unit_cell_formula': {'Fe': 3.0, 'Ni': 1.0},\n  'pretty_formula': 'Fe3Ni',\n  'is_hubbard': False,\n  'elements': ['Fe', 'Ni'],\n  'nelements': 2,\n  'e_above_hull': 0.077626927499999,\n  'hubbards': {},\n  'is_compatible': True,\n  'spacegroup': {'symprec': 0.1,\n   'source': 'spglib',\n   'symbol': 'Pm-3m',\n   'number': 221,\n   'point_group': 'm-3m',\n   'crystal_system': 'cubic',\n   'hall': '-P 4 2 3'},\n  'task_ids': ['mp-999189',\n   'mp-999213',\n   'mp-999218',\n   'mp-999227',\n   'mp-1067382',\n   'mp-1067435',\n   'mp-1067501',\n   'mp-1067504',\n   'mp-1430529',\n   'mp-1609888',\n   'mp-1765983',\n   'mp-1791760'],\n  'band_gap': 0.0,\n  'density': 8.155723416032492,\n  'icsd_id': None,\n  'icsd_ids': [188233],\n  'cif': \"# generated using pymatgen\\ndata_Fe3Ni\\n_symmetry_space_group_name_H-M   'P 1'\\n_cell_length_a   3.58463200\\n_cell_length_b   3.58463200\\n_cell_length_c   3.58463200\\n_cell_angle_alpha   90.00000000\\n_cell_angle_beta   90.00000000\\n_cell_angle_gamma   90.00000000\\n_symmetry_Int_Tables_number   1\\n_chemical_formula_structural   Fe3Ni\\n_chemical_formula_sum   'Fe3 Ni1'\\n_cell_volume   46.06103923\\n_cell_formula_units_Z   1\\nloop_\\n _symmetry_equiv_pos_site_id\\n _symmetry_equiv_pos_as_xyz\\n  1  'x, y, z'\\nloop_\\n _atom_site_type_symbol\\n _atom_site_label\\n _atom_site_symmetry_multiplicity\\n _atom_site_fract_x\\n _atom_site_fract_y\\n _atom_site_fract_z\\n _atom_site_occupancy\\n  Fe  Fe0  1  0.00000000  0.50000000  0.50000000  1\\n  Fe  Fe1  1  0.50000000  0.50000000  0.00000000  1\\n  Fe  Fe2  1  0.50000000  0.00000000  0.50000000  1\\n  Ni  Ni3  1  0.00000000  0.00000000  0.00000000  1\\n\",\n  'total_magnetization': 8.1586136,\n  'material_id': 'mp-999189',\n  'oxide_type': 'None',\n  'tags': ['Iron nickel (3/1)'],\n  'elasticity': {'G_Reuss': -38.0,\n   'G_VRH': -4.0,\n   'G_Voigt': 30.0,\n   'G_Voigt_Reuss_Hill': -4.0,\n   'K_Reuss': 169.0,\n   'K_VRH': 169.0,\n   'K_Voigt': 169.0,\n   'K_Voigt_Reuss_Hill': 169.0,\n   'elastic_anisotropy': -8.93,\n   'elastic_tensor': [[154.0, 176.0, 176.0, 0.0, 0.0, 0.0],\n    [176.0, 154.0, 176.0, 0.0, 0.0, 0.0],\n    [176.0, 176.0, 154.0, 0.0, 0.0, 0.0],\n    [0.0, 0.0, 0.0, 58.0, 0.0, 0.0],\n    [0.0, 0.0, 0.0, 0.0, 58.0, 0.0],\n    [0.0, 0.0, 0.0, 0.0, 0.0, 58.0]],\n   'homogeneous_poisson': 0.51,\n   'poisson_ratio': 0.51,\n   'universal_anisotropy': -8.93,\n   'elastic_tensor_original': [[155.15015192098872,\n     177.2448270177327,\n     177.21285227374517,\n     0.0,\n     0.0,\n     0.0],\n    [177.3097201451631, 155.2128000398007, 177.2763752645295, 0.0, 0.0, 0.0],\n    [174.755052848797, 174.75476144294026, 152.96816437320146, 0.0, 0.0, 0.0],\n    [-0.0519678435203559,\n     0.06380655662914378,\n     -0.341891526707256,\n     57.75469752246993,\n     0.0,\n     0.0],\n    [0.04902578000430728,\n     0.13535740970534876,\n     0.023905795330129296,\n     0.0,\n     57.75345670234246,\n     0.0],\n    [0.7033297496012602,\n     -0.4980774373761944,\n     -0.08342702343674735,\n     0.0,\n     0.0,\n     57.77632943071109]],\n   'compliance_tensor': [[-29.7, 15.8, 15.8, 0.0, 0.0, -0.0],\n    [15.8, -29.7, 15.8, -0.0, -0.0, -0.0],\n    [15.8, 15.8, -29.7, 0.0, -0.0, 0.0],\n    [-0.0, 0.0, 0.0, 17.3, 0.0, -0.0],\n    [0.0, -0.0, 0.0, -0.0, 17.3, -0.0],\n    [0.0, -0.0, -0.0, -0.0, -0.0, 17.3]],\n   'warnings': ['Elastic tensor has a negative eigenvalue',\n    'c11 and c12 are within 5% or c12 is greater than c11',\n    'c11 and c13 are within 5% or c13 is greater than c11',\n    'c11 and c23 are within 5% or c23 is greater than c11',\n    'One or more K, G below 2 GPa'],\n   'nsites': 4},\n  'piezo': None,\n  'diel': None,\n  'full_formula': 'Fe3Ni1'},\n {'energy': -31.01914287,\n  'energy_per_atom': -7.7547857175,\n  'volume': 46.4187320995087,\n  'formation_energy_per_atom': 0.042750612499999896,\n  'nsites': 4,\n  'unit_cell_formula': {'Fe': 3.0, 'Ni': 1.0},\n  'pretty_formula': 'Fe3Ni',\n  'is_hubbard': False,\n  'elements': ['Fe', 'Ni'],\n  'nelements': 2,\n  'e_above_hull': 0.07636687249999952,\n  'hubbards': {},\n  'is_compatible': True,\n  'spacegroup': {'symprec': 0.1,\n   'source': 'spglib',\n   'symbol': 'I4/mmm',\n   'number': 139,\n   'point_group': '4/mmm',\n   'crystal_system': 'tetragonal',\n   'hall': '-I 4 2'},\n  'task_ids': ['mp-1007862',\n   'mp-1007915',\n   'mp-1007893',\n   'mp-1007948',\n   'mp-1064088',\n   'mp-1064184',\n   'mp-1064268',\n   'mp-1064373',\n   'mp-1066787',\n   'mp-1066905',\n   'mp-1066993',\n   'mp-1067118',\n   'mp-1417525',\n   'mp-1584391',\n   'mp-1766213',\n   'mp-1795270'],\n  'band_gap': 0.0,\n  'density': 8.092877146430878,\n  'icsd_id': None,\n  'icsd_ids': [188246, 188245],\n  'cif': \"# generated using pymatgen\\ndata_Fe3Ni\\n_symmetry_space_group_name_H-M   'P 1'\\n_cell_length_a   4.48763143\\n_cell_length_b   4.48763143\\n_cell_length_c   4.48763143\\n_cell_angle_alpha   133.71554879\\n_cell_angle_beta   133.71554879\\n_cell_angle_gamma   67.53263340\\n_symmetry_Int_Tables_number   1\\n_chemical_formula_structural   Fe3Ni\\n_chemical_formula_sum   'Fe3 Ni1'\\n_cell_volume   46.41873210\\n_cell_formula_units_Z   1\\nloop_\\n _symmetry_equiv_pos_site_id\\n _symmetry_equiv_pos_as_xyz\\n  1  'x, y, z'\\nloop_\\n _atom_site_type_symbol\\n _atom_site_label\\n _atom_site_symmetry_multiplicity\\n _atom_site_fract_x\\n _atom_site_fract_y\\n _atom_site_fract_z\\n _atom_site_occupancy\\n  Fe  Fe0  1  0.50000000  0.50000000  0.00000000  1\\n  Fe  Fe1  1  0.75000000  0.25000000  0.50000000  1\\n  Fe  Fe2  1  0.25000000  0.75000000  0.50000000  1\\n  Ni  Ni3  1  0.00000000  0.00000000  0.00000000  1\\n\",\n  'total_magnetization': 8.1735649,\n  'material_id': 'mp-1007862',\n  'oxide_type': 'None',\n  'tags': ['Iron chromium (3/1)', 'Iron nickel (3/1)'],\n  'elasticity': None,\n  'piezo': None,\n  'diel': None,\n  'full_formula': 'Fe3Ni1'},\n {'energy': -22.58663735,\n  'energy_per_atom': -7.528879116666666,\n  'volume': 34.40049961236216,\n  'formation_energy_per_atom': 0.044501696666665445,\n  'nsites': 3,\n  'unit_cell_formula': {'Fe': 2.0, 'Ni': 1.0},\n  'pretty_formula': 'Fe2Ni',\n  'is_hubbard': False,\n  'elements': ['Fe', 'Ni'],\n  'nelements': 2,\n  'e_above_hull': 0.08932337666666346,\n  'hubbards': {},\n  'is_compatible': True,\n  'spacegroup': {'symprec': 0.1,\n   'source': 'spglib',\n   'symbol': 'P-3m1',\n   'number': 164,\n   'point_group': '-3m',\n   'crystal_system': 'trigonal',\n   'hall': '-P 3 2\"'},\n  'task_ids': ['mp-1224697', 'mp-1445064', 'mp-1611564', 'mp-1766803'],\n  'band_gap': 0.0,\n  'density': 8.224540201109791,\n  'icsd_id': None,\n  'icsd_ids': [],\n  'cif': \"# generated using pymatgen\\ndata_Fe2Ni\\n_symmetry_space_group_name_H-M   'P 1'\\n_cell_length_a   2.51768684\\n_cell_length_b   2.51768684\\n_cell_length_c   6.26658300\\n_cell_angle_alpha   90.00000000\\n_cell_angle_beta   90.00000000\\n_cell_angle_gamma   120.00002197\\n_symmetry_Int_Tables_number   1\\n_chemical_formula_structural   Fe2Ni\\n_chemical_formula_sum   'Fe2 Ni1'\\n_cell_volume   34.40049961\\n_cell_formula_units_Z   1\\nloop_\\n _symmetry_equiv_pos_site_id\\n _symmetry_equiv_pos_as_xyz\\n  1  'x, y, z'\\nloop_\\n _atom_site_type_symbol\\n _atom_site_label\\n _atom_site_symmetry_multiplicity\\n _atom_site_fract_x\\n _atom_site_fract_y\\n _atom_site_fract_z\\n _atom_site_occupancy\\n  Fe  Fe0  1  0.33333300  0.66666700  0.67148100  1\\n  Fe  Fe1  1  0.66666700  0.33333300  0.32851900  1\\n  Ni  Ni2  1  0.00000000  0.00000000  0.00000000  1\\n\",\n  'total_magnetization': 5.6758261,\n  'material_id': 'mp-1224697',\n  'oxide_type': 'None',\n  'tags': [],\n  'elasticity': None,\n  'piezo': None,\n  'diel': None,\n  'full_formula': 'Fe2Ni1'}]"
     },
     "execution_count": 12,
     "metadata": {},
     "output_type": "execute_result"
    }
   ],
   "source": [
    "data = req.json()\n",
    "data['response']"
   ],
   "metadata": {
    "collapsed": false,
    "pycharm": {
     "name": "#%%\n"
    }
   }
  },
  {
   "cell_type": "code",
   "execution_count": 18,
   "outputs": [
    {
     "ename": "KeyError",
     "evalue": "'response'",
     "output_type": "error",
     "traceback": [
      "\u001B[1;31m---------------------------------------------------------------------------\u001B[0m",
      "\u001B[1;31mKeyError\u001B[0m                                  Traceback (most recent call last)",
      "\u001B[1;32m<ipython-input-18-bc2228f43bcf>\u001B[0m in \u001B[0;36m<module>\u001B[1;34m\u001B[0m\n\u001B[0;32m      1\u001B[0m \u001B[1;32mimport\u001B[0m \u001B[0mpandas\u001B[0m \u001B[1;32mas\u001B[0m \u001B[0mpd\u001B[0m\u001B[1;33m\u001B[0m\u001B[1;33m\u001B[0m\u001B[0m\n\u001B[1;32m----> 2\u001B[1;33m \u001B[0mdf\u001B[0m \u001B[1;33m=\u001B[0m \u001B[0mpd\u001B[0m\u001B[1;33m.\u001B[0m\u001B[0mDataFrame\u001B[0m\u001B[1;33m.\u001B[0m\u001B[0mfrom_dict\u001B[0m\u001B[1;33m(\u001B[0m\u001B[0mdata\u001B[0m \u001B[1;33m=\u001B[0m \u001B[0mdata\u001B[0m\u001B[1;33m[\u001B[0m\u001B[1;34m'response'\u001B[0m\u001B[1;33m]\u001B[0m\u001B[1;33m)\u001B[0m\u001B[1;33m\u001B[0m\u001B[1;33m\u001B[0m\u001B[0m\n\u001B[0m\u001B[0;32m      3\u001B[0m \u001B[0mdf\u001B[0m\u001B[1;33m\u001B[0m\u001B[1;33m\u001B[0m\u001B[0m\n\u001B[0;32m      4\u001B[0m \u001B[1;33m\u001B[0m\u001B[0m\n",
      "\u001B[1;31mKeyError\u001B[0m: 'response'"
     ]
    }
   ],
   "source": [
    "import pandas as pd\n",
    "df = pd.DataFrame.from_dict(data = data['response'])\n",
    "df"
   ],
   "metadata": {
    "collapsed": false,
    "pycharm": {
     "name": "#%%\n"
    }
   }
  },
  {
   "cell_type": "code",
   "execution_count": 4,
   "outputs": [],
   "source": [
    "\n",
    "req2 = requests.get(\"https://www.materialsproject.org/rest/v2/tasks/mp-705417/?API_KEY=P2tLmbTfRg9uMJDqzXV\")"
   ],
   "metadata": {
    "collapsed": false,
    "pycharm": {
     "name": "#%%\n"
    }
   }
  },
  {
   "cell_type": "code",
   "execution_count": 8,
   "outputs": [
    {
     "data": {
      "text/plain": "{'response': [{'energy': -152.77829142,\n   'energy_per_atom': -6.642534409565217,\n   'volume': 248.9953053117077,\n   'nsites': 23,\n   'composition_unit_cell': {'Fe': 11.0, 'O': 12.0},\n   'formula_pretty': 'Fe11O12',\n   'is_hubbard': True,\n   'hubbards': {'Fe': 5.3, 'O': 0.0},\n   'elements': ['Fe', 'O'],\n   'nelements': 2,\n   'spacegroup': {'source': 'spglib',\n    'symbol': 'P-1',\n    'number': 2,\n    'point_group': '-1',\n    'crystal_system': 'triclinic',\n    'hall': '-P 1'},\n   'band_gap': 1.3998,\n   'density': 5.377098848107311,\n   'oxide_type': None,\n   'full_formula': 'Fe11O12',\n   'material_id': 'mp-705417'}],\n 'valid_response': True,\n 'created_at': '2021-03-08T11:09:38.762970',\n 'version': {'db': '2021_02_08', 'pymatgen': '2021.2.8.1', 'rest': '2.0'},\n 'copyright': 'Materials Project, 2021'}"
     },
     "execution_count": 8,
     "metadata": {},
     "output_type": "execute_result"
    }
   ],
   "source": [
    "data2 = req2.json()\n",
    "data2"
   ],
   "metadata": {
    "collapsed": false,
    "pycharm": {
     "name": "#%%\n"
    }
   }
  },
  {
   "cell_type": "code",
   "execution_count": 24,
   "outputs": [],
   "source": [
    "import json\n",
    "import requests\n",
    "\n",
    "data = {\n",
    "    'criteria': {\n",
    "        'elements': {'$all': ['Ni','Fe']},\n",
    "        'nelements': 2,\n",
    "    },\n",
    "    'properties': [\n",
    "        'pretty_formula',\n",
    "        'material_id',\n",
    "        'formula',\n",
    "        'formation_energy_per_atom',\n",
    "    ]\n",
    "}\n",
    "r = requests.post('https://materialsproject.org/rest/v2/query',\n",
    "                 headers={'X-API-KEY': 'P2tLmbTfRg9uMJDqzXV'},\n",
    "                 data={k: json.dumps(v) for k,v in data.items()})\n",
    "response_content = r.json() # a dict"
   ],
   "metadata": {
    "collapsed": false,
    "pycharm": {
     "name": "#%%\n"
    }
   }
  },
  {
   "cell_type": "code",
   "execution_count": 25,
   "outputs": [],
   "source": [
    "data = response_content['response']\n",
    "for dictionary in data:\n",
    "    keys = dictionary['formula'].keys()\n",
    "    values = dictionary['formula'].values()\n",
    "    atom_sum = sum(values)\n",
    "    values = [value / atom_sum for value in values]\n",
    "    new_formula = dict(zip(keys, values))\n",
    "    dictionary.update(new_formula)"
   ],
   "metadata": {
    "collapsed": false,
    "pycharm": {
     "name": "#%%\n"
    }
   }
  },
  {
   "cell_type": "code",
   "execution_count": 26,
   "outputs": [
    {
     "data": {
      "text/plain": "[{'pretty_formula': 'Fe3Ni2',\n  'material_id': 'mp-1225009',\n  'formula': {'Fe': 3.0, 'Ni': 2.0},\n  'formation_energy_per_atom': -0.03217178700000005,\n  'Fe': 0.6,\n  'Ni': 0.4},\n {'pretty_formula': 'FeNi',\n  'material_id': 'mp-1224976',\n  'formula': {'Fe': 1.0, 'Ni': 1.0},\n  'formation_energy_per_atom': 0.0014148349999993926,\n  'Fe': 0.5,\n  'Ni': 0.5},\n {'pretty_formula': 'Fe3Ni',\n  'material_id': 'mp-1224780',\n  'formula': {'Fe': 3.0, 'Ni': 1.0},\n  'formation_energy_per_atom': 0.12384976999999964,\n  'Fe': 0.75,\n  'Ni': 0.25},\n {'pretty_formula': 'FeNi3',\n  'material_id': 'mp-1007854',\n  'formula': {'Fe': 1.0, 'Ni': 3.0},\n  'formation_energy_per_atom': 0.018649790000000444,\n  'Fe': 0.25,\n  'Ni': 0.75},\n {'pretty_formula': 'Fe2Ni',\n  'material_id': 'mp-1077745',\n  'formula': {'Fe': 2.0, 'Ni': 1.0},\n  'formation_energy_per_atom': 0.17854796999999914,\n  'Fe': 0.6666666666666666,\n  'Ni': 0.3333333333333333},\n {'pretty_formula': 'FeNi3',\n  'material_id': 'mp-1225078',\n  'formula': {'Fe': 1.0, 'Ni': 3.0},\n  'formation_energy_per_atom': -0.01106297749999996,\n  'Fe': 0.25,\n  'Ni': 0.75},\n {'pretty_formula': 'FeNi3',\n  'material_id': 'mp-1418',\n  'formula': {'Fe': 1.0, 'Ni': 3.0},\n  'formation_energy_per_atom': -0.08976393749999989,\n  'Fe': 0.25,\n  'Ni': 0.75},\n {'pretty_formula': 'Fe3Ni',\n  'material_id': 'mp-1224827',\n  'formula': {'Fe': 3.0, 'Ni': 1.0},\n  'formation_energy_per_atom': 0.08674733500000009,\n  'Fe': 0.75,\n  'Ni': 0.25},\n {'pretty_formula': 'FeNi3',\n  'material_id': 'mp-1079337',\n  'formula': {'Fe': 1.0, 'Ni': 3.0},\n  'formation_energy_per_atom': -0.07344370499999986,\n  'Fe': 0.25,\n  'Ni': 0.75},\n {'pretty_formula': 'FeNi2',\n  'material_id': 'mp-1072076',\n  'formula': {'Fe': 1.0, 'Ni': 2.0},\n  'formation_energy_per_atom': 0.1035910116666668,\n  'Fe': 0.3333333333333333,\n  'Ni': 0.6666666666666666},\n {'pretty_formula': 'FeNi',\n  'material_id': 'mp-2213',\n  'formula': {'Fe': 1.0, 'Ni': 1.0},\n  'formation_energy_per_atom': -0.06723252000000013,\n  'Fe': 0.5,\n  'Ni': 0.5},\n {'pretty_formula': 'Fe3Ni',\n  'material_id': 'mp-1007853',\n  'formula': {'Fe': 3.0, 'Ni': 1.0},\n  'formation_energy_per_atom': 0.025479124999999492,\n  'Fe': 0.75,\n  'Ni': 0.25},\n {'pretty_formula': 'FeNi3',\n  'material_id': 'mp-1007855',\n  'formula': {'Fe': 1.0, 'Ni': 3.0},\n  'formation_energy_per_atom': -0.0727314149999998,\n  'Fe': 0.25,\n  'Ni': 0.75},\n {'pretty_formula': 'FeNi',\n  'material_id': 'mp-1224965',\n  'formula': {'Fe': 1.0, 'Ni': 1.0},\n  'formation_energy_per_atom': 0.01599944499999939,\n  'Fe': 0.5,\n  'Ni': 0.5},\n {'pretty_formula': 'Fe3Ni',\n  'material_id': 'mp-999189',\n  'formula': {'Fe': 3.0, 'Ni': 1.0},\n  'formation_energy_per_atom': 0.04401066749999938,\n  'Fe': 0.75,\n  'Ni': 0.25},\n {'pretty_formula': 'Fe3Ni',\n  'material_id': 'mp-1007862',\n  'formula': {'Fe': 3.0, 'Ni': 1.0},\n  'formation_energy_per_atom': 0.042750612499999896,\n  'Fe': 0.75,\n  'Ni': 0.25},\n {'pretty_formula': 'Fe2Ni',\n  'material_id': 'mp-1224697',\n  'formula': {'Fe': 2.0, 'Ni': 1.0},\n  'formation_energy_per_atom': 0.044501696666665445,\n  'Fe': 0.6666666666666666,\n  'Ni': 0.3333333333333333}]"
     },
     "execution_count": 26,
     "metadata": {},
     "output_type": "execute_result"
    }
   ],
   "source": [
    "data\n"
   ],
   "metadata": {
    "collapsed": false,
    "pycharm": {
     "name": "#%%\n"
    }
   }
  },
  {
   "cell_type": "code",
   "execution_count": 20,
   "outputs": [
    {
     "data": {
      "text/plain": "{'dd': 0.5217391304347826, 'bb': 0.4782608695652174}"
     },
     "execution_count": 20,
     "metadata": {},
     "output_type": "execute_result"
    }
   ],
   "source": [
    "a = {\"dd\":12,\"bb\":11}\n",
    "keys = a.keys()\n",
    "values = a.values()\n",
    "atom_sum = sum(values)\n",
    "values = [value / atom_sum for value in values]\n",
    "values\n",
    "new = dict(zip(keys, values))\n",
    "new"
   ],
   "metadata": {
    "collapsed": false,
    "pycharm": {
     "name": "#%%\n"
    }
   }
  },
  {
   "cell_type": "code",
   "execution_count": 29,
   "outputs": [],
   "source": [
    "from API import APIRester\n",
    "composition = [\"Co\", \"Ti\", \"Cr\"]\n",
    "Rester = APIRester(composition, 'af')"
   ],
   "metadata": {
    "collapsed": false,
    "pycharm": {
     "name": "#%%\n"
    }
   }
  },
  {
   "cell_type": "code",
   "execution_count": 47,
   "outputs": [],
   "source": [
    "import numpy as np\n",
    "\n",
    "from matplotlib.tri import Triangulation, LinearTriInterpolator\n",
    "Rester.np_hull\n",
    "i = 0\n",
    "for s in Rester.point_list:\n",
    "    triObj = Triangulation(Rester.np_hull[s,0],Rester.np_hull[s,1])\n",
    "\n",
    "    #linear interpolation\n",
    "    fz = LinearTriInterpolator(triObj,Rester.np_hull[s,2])\n",
    "\n",
    "    Z = fz(b['x'],b['y'])\n",
    "    if i == 0:\n",
    "        hull_list = Z.data.reshape(1,-1)\n",
    "    else:\n",
    "        hull_list= np.append(hull_list, Z.data.reshape(1,-1),axis=0)\n",
    "    i +=1"
   ],
   "metadata": {
    "collapsed": false,
    "pycharm": {
     "name": "#%%\n"
    }
   }
  },
  {
   "cell_type": "code",
   "execution_count": 35,
   "outputs": [
    {
     "name": "stderr",
     "output_type": "stream",
     "text": [
      "<ipython-input-35-e80bf5b1f442>:4: SettingWithCopyWarning: \n",
      "A value is trying to be set on a copy of a slice from a DataFrame.\n",
      "Try using .loc[row_indexer,col_indexer] = value instead\n",
      "\n",
      "See the caveats in the documentation: https://pandas.pydata.org/pandas-docs/stable/user_guide/indexing.html#returning-a-view-versus-a-copy\n",
      "  df['x'] = df[composition[1]] + 0.5 * df[composition[2]]\n",
      "<ipython-input-35-e80bf5b1f442>:5: SettingWithCopyWarning: \n",
      "A value is trying to be set on a copy of a slice from a DataFrame.\n",
      "Try using .loc[row_indexer,col_indexer] = value instead\n",
      "\n",
      "See the caveats in the documentation: https://pandas.pydata.org/pandas-docs/stable/user_guide/indexing.html#returning-a-view-versus-a-copy\n",
      "  df['y'] = sqrt3_over_2 * df[composition[2]]\n"
     ]
    },
    {
     "data": {
      "text/plain": "             x         y\n0     0.000000  0.000000\n734   1.000000  0.000000\n1534  0.500000  0.866025\n2265  0.750000  0.000000\n2266  0.555556  0.000000\n...        ...       ...\n3082  0.600000  0.346410\n3085  0.400000  0.346410\n3103  0.187500  0.108253\n3111  0.250000  0.144338\n3114  0.500000  0.577350\n\n[91 rows x 2 columns]",
      "text/html": "<div>\n<style scoped>\n    .dataframe tbody tr th:only-of-type {\n        vertical-align: middle;\n    }\n\n    .dataframe tbody tr th {\n        vertical-align: top;\n    }\n\n    .dataframe thead th {\n        text-align: right;\n    }\n</style>\n<table border=\"1\" class=\"dataframe\">\n  <thead>\n    <tr style=\"text-align: right;\">\n      <th></th>\n      <th>x</th>\n      <th>y</th>\n    </tr>\n  </thead>\n  <tbody>\n    <tr>\n      <th>0</th>\n      <td>0.000000</td>\n      <td>0.000000</td>\n    </tr>\n    <tr>\n      <th>734</th>\n      <td>1.000000</td>\n      <td>0.000000</td>\n    </tr>\n    <tr>\n      <th>1534</th>\n      <td>0.500000</td>\n      <td>0.866025</td>\n    </tr>\n    <tr>\n      <th>2265</th>\n      <td>0.750000</td>\n      <td>0.000000</td>\n    </tr>\n    <tr>\n      <th>2266</th>\n      <td>0.555556</td>\n      <td>0.000000</td>\n    </tr>\n    <tr>\n      <th>...</th>\n      <td>...</td>\n      <td>...</td>\n    </tr>\n    <tr>\n      <th>3082</th>\n      <td>0.600000</td>\n      <td>0.346410</td>\n    </tr>\n    <tr>\n      <th>3085</th>\n      <td>0.400000</td>\n      <td>0.346410</td>\n    </tr>\n    <tr>\n      <th>3103</th>\n      <td>0.187500</td>\n      <td>0.108253</td>\n    </tr>\n    <tr>\n      <th>3111</th>\n      <td>0.250000</td>\n      <td>0.144338</td>\n    </tr>\n    <tr>\n      <th>3114</th>\n      <td>0.500000</td>\n      <td>0.577350</td>\n    </tr>\n  </tbody>\n</table>\n<p>91 rows × 2 columns</p>\n</div>"
     },
     "execution_count": 35,
     "metadata": {},
     "output_type": "execute_result"
    }
   ],
   "source": [
    "import math\n",
    "sqrt3_over_2 = 0.5*math.sqrt(3)\n",
    "df = Rester.df[composition]\n",
    "df['x'] = df[composition[1]] + 0.5 * df[composition[2]]\n",
    "df['y'] = sqrt3_over_2 * df[composition[2]]\n",
    "a = df[['x','y']]\n",
    "\n",
    "b = a.drop_duplicates()\n",
    "b"
   ],
   "metadata": {
    "collapsed": false,
    "pycharm": {
     "name": "#%%\n"
    }
   }
  },
  {
   "cell_type": "code",
   "execution_count": 37,
   "outputs": [
    {
     "data": {
      "text/plain": "masked_array(data=[--, --, 0.0, --, --, --, --, -0.386138, --, --, --, --,\n                   --, --, --, --, --, --, --, --, --, --, --, --, --, --,\n                   --, --, --, --, --, --, --, --, --, --, --, --, --, --,\n                   --, --, --, --, --, --, --, --, --, --, --, --,\n                   -0.09045600009045596, -0.12060799999999999, --, --, --,\n                   -0.040202666666666664, -0.06030400018091192, --, --,\n                   --, --, --, --, --, -0.015731478328658288, --, --, --,\n                   --, -0.062383448300815436, --, --, --, --, --, --,\n                   -0.04522800004522798, --, --, --, --, -0.193069, --,\n                   -0.3089104, --, --, --, --, -0.12871266651364],\n             mask=[ True,  True, False,  True,  True,  True,  True, False,\n                    True,  True,  True,  True,  True,  True,  True,  True,\n                    True,  True,  True,  True,  True,  True,  True,  True,\n                    True,  True,  True,  True,  True,  True,  True,  True,\n                    True,  True,  True,  True,  True,  True,  True,  True,\n                    True,  True,  True,  True,  True,  True,  True,  True,\n                    True,  True,  True,  True, False, False,  True,  True,\n                    True, False, False,  True,  True,  True,  True,  True,\n                    True,  True, False,  True,  True,  True,  True, False,\n                    True,  True,  True,  True,  True,  True, False,  True,\n                    True,  True,  True, False,  True, False,  True,  True,\n                    True,  True, False],\n       fill_value=1e+20)"
     },
     "execution_count": 37,
     "metadata": {},
     "output_type": "execute_result"
    }
   ],
   "source": [
    "from matplotlib.tri import Triangulation, LinearTriInterpolator\n",
    "s = Rester.point_list[0]\n",
    "triObj = Triangulation(Rester.np_hull[s,0],Rester.np_hull[s,1])\n",
    "\n",
    "#linear interpolation\n",
    "fz = LinearTriInterpolator(triObj,Rester.np_hull[s,2])\n",
    "\n",
    "Z = fz(b['x'],b['y'])\n",
    "Z"
   ],
   "metadata": {
    "collapsed": false,
    "pycharm": {
     "name": "#%%\n"
    }
   }
  },
  {
   "cell_type": "code",
   "execution_count": 54,
   "outputs": [
    {
     "name": "stdout",
     "output_type": "stream",
     "text": [
      "           0             1         2         3         4             5\n",
      "0        NaN  0.000000e+00       NaN       NaN       NaN           NaN\n",
      "1        NaN           NaN  0.000000       NaN       NaN           NaN\n",
      "2   0.000000  0.000000e+00       NaN       NaN  0.000000 -4.163336e-17\n",
      "3        NaN           NaN -0.216783       NaN       NaN           NaN\n",
      "4        NaN           NaN       NaN -0.353773       NaN           NaN\n",
      "5        NaN -2.561300e-01       NaN       NaN       NaN -2.561300e-01\n",
      "6        NaN           NaN -0.144522       NaN       NaN           NaN\n",
      "7  -0.386138           NaN       NaN -0.386138 -0.386138           NaN\n",
      "8        NaN           NaN       NaN       NaN       NaN -3.163933e-01\n",
      "9        NaN           NaN       NaN       NaN -0.363502           NaN\n",
      "10       NaN           NaN -0.289044 -0.289044       NaN           NaN\n",
      "11       NaN           NaN       NaN       NaN -0.346525 -3.465250e-01\n",
      "12       NaN -2.049040e-01       NaN       NaN       NaN           NaN\n",
      "13       NaN -1.707533e-01       NaN       NaN       NaN           NaN\n",
      "14       NaN           NaN       NaN -0.327882       NaN           NaN\n",
      "15       NaN           NaN       NaN -0.313318       NaN           NaN\n",
      "16       NaN           NaN       NaN       NaN -0.368532           NaN\n",
      "17       NaN           NaN -0.173426       NaN       NaN           NaN\n",
      "18       NaN           NaN -0.096348       NaN       NaN           NaN\n",
      "19       NaN           NaN       NaN       NaN -0.354448           NaN\n",
      "20       NaN -1.138356e-01       NaN       NaN       NaN           NaN\n",
      "21       NaN           NaN       NaN -0.344526       NaN           NaN\n",
      "22       NaN           NaN -0.061938       NaN       NaN           NaN\n",
      "23       NaN -7.318000e-02       NaN       NaN       NaN           NaN\n",
      "24       NaN           NaN -0.037701       NaN       NaN           NaN\n",
      "25       NaN           NaN -0.108392       NaN       NaN           NaN\n",
      "26       NaN           NaN       NaN       NaN -0.373949           NaN\n",
      "27       NaN -1.280650e-01       NaN       NaN       NaN           NaN\n",
      "28       NaN -4.454435e-02       NaN       NaN       NaN           NaN\n",
      "29       NaN  0.000000e+00       NaN       NaN       NaN           NaN\n",
      "30       NaN  0.000000e+00       NaN       NaN       NaN           NaN\n",
      "31       NaN  2.775558e-17       NaN       NaN       NaN           NaN\n",
      "32       NaN  5.551115e-17       NaN       NaN       NaN           NaN\n",
      "33       NaN  2.775558e-17       NaN       NaN       NaN           NaN\n",
      "34       NaN  0.000000e+00       NaN       NaN       NaN           NaN\n",
      "35       NaN  0.000000e+00       NaN       NaN       NaN           NaN\n",
      "36       NaN  5.551115e-17       NaN       NaN       NaN           NaN\n",
      "37       NaN  0.000000e+00       NaN       NaN       NaN           NaN\n",
      "38       NaN  2.775558e-17       NaN       NaN       NaN           NaN\n",
      "39       NaN  0.000000e+00       NaN       NaN       NaN           NaN\n",
      "40       NaN  5.551115e-17       NaN       NaN       NaN           NaN\n",
      "41       NaN  0.000000e+00       NaN       NaN       NaN           NaN\n",
      "42       NaN  1.387779e-17       NaN       NaN       NaN           NaN\n",
      "43       NaN  0.000000e+00       NaN       NaN       NaN           NaN\n",
      "44       NaN  2.775558e-17       NaN       NaN       NaN           NaN\n",
      "45       NaN  0.000000e+00       NaN       NaN       NaN           NaN\n",
      "46       NaN  1.387779e-17       NaN       NaN       NaN           NaN\n",
      "47       NaN  0.000000e+00       NaN       NaN       NaN           NaN\n",
      "48       NaN  5.551115e-17       NaN       NaN       NaN           NaN\n",
      "49       NaN  5.551115e-17       NaN       NaN       NaN           NaN\n",
      "50       NaN           NaN -0.103378       NaN       NaN           NaN\n",
      "51       NaN           NaN       NaN       NaN       NaN           NaN\n",
      "52 -0.090456           NaN       NaN       NaN       NaN           NaN\n",
      "53 -0.120608           NaN -0.120608 -0.120608       NaN           NaN\n",
      "54       NaN           NaN -0.113070       NaN       NaN           NaN\n",
      "55       NaN           NaN -0.045228       NaN       NaN           NaN\n",
      "56       NaN           NaN -0.090456       NaN       NaN           NaN\n",
      "57 -0.040203           NaN       NaN       NaN       NaN           NaN\n",
      "58 -0.060304           NaN       NaN       NaN       NaN           NaN\n",
      "59       NaN           NaN -0.036182       NaN       NaN           NaN\n",
      "60       NaN           NaN -0.060304       NaN       NaN           NaN\n",
      "61       NaN           NaN -0.020101       NaN       NaN           NaN\n",
      "62       NaN           NaN       NaN       NaN       NaN           NaN\n",
      "63       NaN           NaN -0.080405       NaN       NaN           NaN\n",
      "64       NaN           NaN -0.074860       NaN       NaN           NaN\n",
      "65       NaN           NaN -0.007866       NaN       NaN           NaN\n",
      "66 -0.015731           NaN       NaN       NaN       NaN           NaN\n",
      "67       NaN           NaN       NaN       NaN       NaN           NaN\n",
      "68       NaN           NaN -0.083498       NaN       NaN           NaN\n",
      "69       NaN           NaN -0.108547       NaN       NaN           NaN\n",
      "70       NaN           NaN -0.022614       NaN       NaN           NaN\n",
      "71 -0.062383           NaN       NaN       NaN       NaN           NaN\n",
      "72       NaN           NaN       NaN       NaN       NaN           NaN\n",
      "73       NaN           NaN -0.067842       NaN       NaN           NaN\n",
      "74       NaN           NaN -0.097414       NaN       NaN           NaN\n",
      "75       NaN           NaN       NaN       NaN       NaN           NaN\n",
      "76       NaN           NaN -0.100507       NaN       NaN           NaN\n",
      "77       NaN           NaN -0.106052       NaN       NaN           NaN\n",
      "78 -0.045228           NaN       NaN       NaN       NaN           NaN\n",
      "79       NaN           NaN -0.077534       NaN       NaN           NaN\n",
      "80       NaN           NaN       NaN       NaN       NaN -2.372950e-01\n",
      "81       NaN           NaN       NaN -0.250154       NaN           NaN\n",
      "82       NaN           NaN       NaN       NaN -0.257425           NaN\n",
      "83 -0.193069           NaN       NaN       NaN -0.193069           NaN\n",
      "84       NaN           NaN -0.174674       NaN       NaN           NaN\n",
      "85 -0.308910           NaN       NaN       NaN -0.308910           NaN\n",
      "86       NaN           NaN       NaN -0.226820       NaN           NaN\n",
      "87       NaN           NaN       NaN       NaN       NaN -1.898360e-01\n",
      "88       NaN -1.280650e-01       NaN       NaN       NaN           NaN\n",
      "89       NaN -1.707533e-01       NaN       NaN       NaN           NaN\n",
      "90 -0.128713           NaN       NaN       NaN       NaN           NaN\n"
     ]
    }
   ],
   "source": [
    "import pandas as pd\n",
    "asdf = pd.DataFrame(hull_list.T)\n",
    "with pd.option_context('display.max_rows', None, 'display.max_columns', None):  # more options can be specified also\n",
    "    print(asdf)"
   ],
   "metadata": {
    "collapsed": false,
    "pycharm": {
     "name": "#%%\n"
    }
   }
  }
 ],
 "metadata": {
  "kernelspec": {
   "display_name": "Python 3",
   "language": "python",
   "name": "python3"
  },
  "language_info": {
   "codemirror_mode": {
    "name": "ipython",
    "version": 2
   },
   "file_extension": ".py",
   "mimetype": "text/x-python",
   "name": "python",
   "nbconvert_exporter": "python",
   "pygments_lexer": "ipython2",
   "version": "2.7.6"
  }
 },
 "nbformat": 4,
 "nbformat_minor": 0
}
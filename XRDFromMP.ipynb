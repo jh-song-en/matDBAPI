{
 "cells": [
  {
   "cell_type": "code",
   "execution_count": null,
   "outputs": [],
   "source": [
    "from pymatgen.ext.matproj import MPRester\n",
    "from pymatgen.apps.borg.hive import VaspToComputedEntryDrone\n",
    "from pymatgen.apps.borg.queen import BorgQueen\n",
    "from pymatgen.entries.compatibility import MaterialsProjectCompatibility\n",
    "from pymatgen.analysis.phase_diagram import PhaseDiagram, PDPlotter\n",
    "\n",
    "# Assimilate VASP calculations into ComputedEntry object. Let's assume that\n",
    "# the calculations are for a series of new LixFeyOz phases that we want to\n",
    "# know the phase stability."
   ],
   "metadata": {
    "collapsed": false,
    "pycharm": {
     "name": "#%%\n"
    }
   }
  },
  {
   "cell_type": "code",
   "execution_count": null,
   "outputs": [],
   "source": [
    "drone = VaspToComputedEntryDrone()\n",
    "queen = BorgQueen(drone, rootpath=\".\")\n",
    "entries = queen.get_data()"
   ],
   "metadata": {
    "collapsed": false,
    "pycharm": {
     "name": "#%%\n"
    }
   }
  },
  {
   "cell_type": "code",
   "execution_count": null,
   "outputs": [],
   "source": [
    "# Obtain all existing Li-Fe-O phases using the Materials Project REST API\n",
    "with MPRester(\"P2tLmbTfRg9uMJDqzXV\") as m:\n",
    "    mp_entries = m.get_entries_in_chemsys([\"Ni\",\"Fe\"])\n"
   ],
   "metadata": {
    "collapsed": false,
    "pycharm": {
     "name": "#%%\n"
    }
   }
  },
  {
   "cell_type": "code",
   "execution_count": null,
   "outputs": [],
   "source": [
    "entry = mp_entries[20]\n",
    "entry"
   ],
   "metadata": {
    "collapsed": false,
    "pycharm": {
     "name": "#%%\n"
    }
   }
  },
  {
   "cell_type": "code",
   "execution_count": null,
   "outputs": [],
   "source": [
    "type(entry.entry_id)"
   ],
   "metadata": {
    "collapsed": false,
    "pycharm": {
     "name": "#%%\n"
    }
   }
  },
  {
   "cell_type": "code",
   "execution_count": null,
   "outputs": [],
   "source": [
    "from pymatgen import MPRester\n",
    "from pymatgen.analysis.diffraction.xrd import XRDCalculator\n",
    "\n",
    "mpr = MPRester(\"P2tLmbTfRg9uMJDqzXV\")\n",
    "\n",
    "structure = mpr.get_structure_by_material_id(\"mp-2213\")\n",
    "\n",
    "# Defaults to Cu K_alpha radiation, no symmetry refinement, no Debye-Waller factors\n",
    "xrd_calculator = XRDCalculator()\n",
    "\n",
    "# Defaults to return scaled (peak value 100) intensities with two_theta_range (0, 90)\n",
    "pattern = xrd_calculator.get_pattern(structure, two_theta_range=(0, 180))"
   ],
   "metadata": {
    "collapsed": false,
    "pycharm": {
     "name": "#%%\n"
    }
   }
  },
  {
   "cell_type": "code",
   "execution_count": null,
   "outputs": [],
   "source": [
    "import matplotlib.pyplot as plt\n",
    "\n",
    "plt.bar(pattern.x, pattern.y)"
   ],
   "metadata": {
    "collapsed": false,
    "pycharm": {
     "name": "#%%\n"
    }
   }
  },
  {
   "cell_type": "code",
   "execution_count": null,
   "outputs": [],
   "source": [
    "import requests\n",
    "material_id = \"mp-2213\"\n",
    "rad_source = \"Cu\"\n",
    "\n",
    "rv = requests.get(\n",
    "    'https://materialsproject.org/materials/{material_id}/xrd?symbol={rad_source}'.format(\n",
    "        material_id=material_id,\n",
    "        rad_source=rad_source,\n",
    "    ))\n",
    "try:\n",
    "    data = rv.json()\n",
    "except:\n",
    "    print(\"Error. Perhaps unknown material id or radiation source.\")"
   ],
   "metadata": {
    "collapsed": false,
    "pycharm": {
     "name": "#%%\n"
    }
   }
  },
  {
   "cell_type": "code",
   "execution_count": null,
   "outputs": [],
   "source": [
    "import pandas as pd\n",
    "\n",
    "df = pd.DataFrame(data[\"pattern\"], columns = data[\"meta\"])\n",
    "plt.bar(df.two_theta, df.amplitude)"
   ],
   "metadata": {
    "collapsed": false,
    "pycharm": {
     "name": "#%%\n"
    }
   }
  },
  {
   "cell_type": "code",
   "execution_count": null,
   "outputs": [],
   "source": [
    "from apimanage import somesomesome\n",
    "hehe = somesomesome(\"P2tLmbTfRg9uMJDqzXV\")\n",
    "hehe.get_entries_by_composition([\"Ni\", \"Fe\"])\n",
    "dic = hehe.xrd_dictionary"
   ],
   "metadata": {
    "collapsed": false,
    "pycharm": {
     "name": "#%%\n"
    }
   }
  },
  {
   "cell_type": "code",
   "execution_count": null,
   "outputs": [],
   "source": [
    "import numpy as np\n",
    "import plotly.graph_objects as go\n",
    "def show_XRD_graph(dictionary):\n",
    "    if dictionary != {}:\n",
    "        fig = go.Figure()\n",
    "        mp_id_list = list(dictionary.keys())\n",
    "        for id in mp_id_list:\n",
    "            dff = dictionary[id]\n",
    "            x = dff[\"two_theta\"].to_numpy()\n",
    "            y = dff[\"amplitude\"].to_numpy()\n",
    "            fig.add_trace(go.Bar(visible= False, x=x, y=y, width = 2,opacity=0.8,\n",
    "                                 marker=dict(color='red',\n",
    "                                             line=dict(width=0))))\n",
    "        fig.data[0].visible = True\n",
    "        steps = []\n",
    "        for i in range(len(fig.data)):\n",
    "            step = dict(\n",
    "                method=\"update\",\n",
    "                args=[{\"visible\": [False] * len(fig.data)}],  # layout attribute\n",
    "                label=mp_id_list[i]\n",
    "            )\n",
    "            step[\"args\"][0][\"visible\"][i] = True  # Toggle i'th trace to \"visible\"\n",
    "            steps.append(step)\n",
    "        sliders = [dict(\n",
    "            active=0,\n",
    "            steps=steps\n",
    "        )]\n",
    "        fig.update_yaxes(scaleanchor=\"x\", scaleratio=1)\n",
    "        fig.update_layout(\n",
    "            xaxis_title=\"X\",\n",
    "            yaxis_title=\"Y\",\n",
    "            template='plotly_white',\n",
    "            sliders=sliders,\n",
    "            xaxis_range=[0,180]\n",
    "        )\n",
    "        fig.show()"
   ],
   "metadata": {
    "collapsed": false,
    "pycharm": {
     "name": "#%%\n"
    }
   }
  },
  {
   "cell_type": "code",
   "execution_count": null,
   "outputs": [],
   "source": [
    "show_XRD_graph(dic)"
   ],
   "metadata": {
    "collapsed": false,
    "pycharm": {
     "name": "#%%\n"
    }
   }
  },
  {
   "cell_type": "code",
   "execution_count": null,
   "outputs": [],
   "source": [
    "import plotly\n",
    "def fig_to_html(fig):\n",
    "    config = config={'doubleClick': 'reset', 'displaylogo': False, 'scrollZoom': True}\n",
    "    html = '<html><head><meta charset=\"utf-8\"/><script src=\"https://cdn.plot.ly/plotly-latest.min.js\"></script></head><body>'\n",
    "    html += plotly.offline.plot(fig, output_type='div', include_plotlyjs='cdn', config = config)\n",
    "    html += '</body></html>'\n",
    "    return html"
   ],
   "metadata": {
    "collapsed": false,
    "pycharm": {
     "name": "#%%\n"
    }
   }
  },
  {
   "cell_type": "code",
   "execution_count": null,
   "outputs": [],
   "source": [
    "import plotly.express as px\n",
    "\n",
    "sss = dic['mp-1245108']\n",
    "x = sss[\"two_theta\"].to_numpy()\n",
    "figure = px.scatter(sss, x=\"two_theta\", y = \"amplitude\")\n",
    "figure.update_traces(marker_color='red',  opacity=0.6)\n",
    "figure.show()"
   ],
   "metadata": {
    "collapsed": false,
    "pycharm": {
     "name": "#%%\n"
    }
   }
  },
  {
   "cell_type": "code",
   "execution_count": null,
   "metadata": {
    "collapsed": true
   },
   "outputs": [],
   "source": []
  }
 ],
 "metadata": {
  "kernelspec": {
   "display_name": "Python 3",
   "language": "python",
   "name": "python3"
  },
  "language_info": {
   "codemirror_mode": {
    "name": "ipython",
    "version": 2
   },
   "file_extension": ".py",
   "mimetype": "text/x-python",
   "name": "python",
   "nbconvert_exporter": "python",
   "pygments_lexer": "ipython2",
   "version": "2.7.6"
  }
 },
 "nbformat": 4,
 "nbformat_minor": 0
}